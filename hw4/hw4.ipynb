{
 "cells": [
  {
   "cell_type": "code",
   "execution_count": 11,
   "metadata": {},
   "outputs": [],
   "source": [
    "import sys\n",
    "import csv\n",
    "import numpy as np\n",
    "import pandas as pd\n",
    "# import matplotlib.pyplot as plt\n",
    "import keras\n",
    "from keras.utils import to_categorical, plot_model\n",
    "from keras.models import load_model"
   ]
  },
  {
   "cell_type": "code",
   "execution_count": 12,
   "metadata": {},
   "outputs": [],
   "source": [
    "def LoadData():\n",
    "    train = pd.read_csv('../hw3/data/train.csv')\n",
    "    test = pd.read_csv('../hw3/data/test.csv')\n",
    "    Y_train = np.array(train['label'])\n",
    "    Y_train_cat = to_categorical(Y_train)\n",
    "    \n",
    "    X = np.array(train['feature'])\n",
    "    X_train = []\n",
    "    for i in range(X.shape[0]):\n",
    "        x = np.array(X[i].split(' '))\n",
    "        x = x.astype(np.int)\n",
    "        X_train.append(x)\n",
    "    X_train = np.array(X_train)\n",
    "    X_train = X_train.reshape(X_train.shape[0],48,48,1) / 255\n",
    "    \n",
    "    X = np.array(test['feature'])\n",
    "    X_test = []\n",
    "    for i in range(X.shape[0]):\n",
    "        x = np.array(X[i].split(' '))\n",
    "        x = x.astype(np.int)\n",
    "        X_test.append(x)\n",
    "    X_test = np.array(X_test)\n",
    "    X_test = X_test.reshape(X_test.shape[0],48,48,1) / 255\n",
    "    \n",
    "    return X_train, Y_train, X_test, Y_train_cat"
   ]
  },
  {
   "cell_type": "code",
   "execution_count": 13,
   "metadata": {},
   "outputs": [],
   "source": [
    "labels =[\"angry\", \"disgust\",\"fear\", \"happy\",\"sad\", \"surprise\", \"neutral\"]\n",
    "X_train, Y_train, X_test, Y_train_cat = LoadData()"
   ]
  },
  {
   "cell_type": "code",
   "execution_count": 14,
   "metadata": {},
   "outputs": [],
   "source": [
    "model_file = '../hw3/model/model31.h5'\n",
    "model = load_model(model_file)\n",
    "Y_pred = model.predict_classes(X_train).astype('int')"
   ]
  },
  {
   "cell_type": "code",
   "execution_count": 15,
   "metadata": {},
   "outputs": [],
   "source": [
    "def plotModel(model,outputpath='model.png'):\n",
    "    image = plot_model(model, show_shapes=True, to_file=outputpath)\n",
    "    return image"
   ]
  },
  {
   "cell_type": "code",
   "execution_count": 77,
   "metadata": {},
   "outputs": [],
   "source": [
    "def plotConfusionMatrix(Y_train, Y_pred):\n",
    "    table = pd.crosstab(Y_train, Y_pred, rownames=['label'], colnames=['predict'])\n",
    "    table /= np.sum(table,axis=1) / 100\n",
    "    table.columns = labels\n",
    "    table.index = labels\n",
    "    return table"
   ]
  },
  {
   "cell_type": "code",
   "execution_count": 79,
   "metadata": {},
   "outputs": [
    {
     "data": {
      "text/html": [
       "<div>\n",
       "<style scoped>\n",
       "    .dataframe tbody tr th:only-of-type {\n",
       "        vertical-align: middle;\n",
       "    }\n",
       "\n",
       "    .dataframe tbody tr th {\n",
       "        vertical-align: top;\n",
       "    }\n",
       "\n",
       "    .dataframe thead th {\n",
       "        text-align: right;\n",
       "    }\n",
       "</style>\n",
       "<table border=\"1\" class=\"dataframe\">\n",
       "  <thead>\n",
       "    <tr style=\"text-align: right;\">\n",
       "      <th></th>\n",
       "      <th>angry</th>\n",
       "      <th>disgust</th>\n",
       "      <th>fear</th>\n",
       "      <th>happy</th>\n",
       "      <th>sad</th>\n",
       "      <th>surprise</th>\n",
       "      <th>neutral</th>\n",
       "    </tr>\n",
       "  </thead>\n",
       "  <tbody>\n",
       "    <tr>\n",
       "      <th>angry</th>\n",
       "      <td>89.586984</td>\n",
       "      <td>2.064220</td>\n",
       "      <td>3.465951</td>\n",
       "      <td>0.498960</td>\n",
       "      <td>2.008282</td>\n",
       "      <td>0.315358</td>\n",
       "      <td>2.457200</td>\n",
       "    </tr>\n",
       "    <tr>\n",
       "      <th>disgust</th>\n",
       "      <td>0.325407</td>\n",
       "      <td>93.807339</td>\n",
       "      <td>0.195265</td>\n",
       "      <td>0.000000</td>\n",
       "      <td>0.062112</td>\n",
       "      <td>0.031536</td>\n",
       "      <td>0.040282</td>\n",
       "    </tr>\n",
       "    <tr>\n",
       "      <th>fear</th>\n",
       "      <td>2.377972</td>\n",
       "      <td>0.688073</td>\n",
       "      <td>90.822553</td>\n",
       "      <td>0.249480</td>\n",
       "      <td>1.842650</td>\n",
       "      <td>1.766004</td>\n",
       "      <td>2.316213</td>\n",
       "    </tr>\n",
       "    <tr>\n",
       "      <th>happy</th>\n",
       "      <td>0.600751</td>\n",
       "      <td>0.000000</td>\n",
       "      <td>0.756651</td>\n",
       "      <td>97.255717</td>\n",
       "      <td>0.641822</td>\n",
       "      <td>0.883002</td>\n",
       "      <td>1.691843</td>\n",
       "    </tr>\n",
       "    <tr>\n",
       "      <th>sad</th>\n",
       "      <td>2.052566</td>\n",
       "      <td>0.458716</td>\n",
       "      <td>6.272883</td>\n",
       "      <td>0.485100</td>\n",
       "      <td>85.983437</td>\n",
       "      <td>0.378430</td>\n",
       "      <td>5.820745</td>\n",
       "    </tr>\n",
       "    <tr>\n",
       "      <th>surprise</th>\n",
       "      <td>0.325407</td>\n",
       "      <td>0.688073</td>\n",
       "      <td>2.684891</td>\n",
       "      <td>0.512821</td>\n",
       "      <td>0.124224</td>\n",
       "      <td>93.818985</td>\n",
       "      <td>0.543807</td>\n",
       "    </tr>\n",
       "    <tr>\n",
       "      <th>neutral</th>\n",
       "      <td>0.775970</td>\n",
       "      <td>0.229358</td>\n",
       "      <td>1.366854</td>\n",
       "      <td>0.859321</td>\n",
       "      <td>1.387164</td>\n",
       "      <td>0.189215</td>\n",
       "      <td>95.508560</td>\n",
       "    </tr>\n",
       "  </tbody>\n",
       "</table>\n",
       "</div>"
      ],
      "text/plain": [
       "              angry    disgust       fear      happy        sad   surprise  \\\n",
       "angry     89.586984   2.064220   3.465951   0.498960   2.008282   0.315358   \n",
       "disgust    0.325407  93.807339   0.195265   0.000000   0.062112   0.031536   \n",
       "fear       2.377972   0.688073  90.822553   0.249480   1.842650   1.766004   \n",
       "happy      0.600751   0.000000   0.756651  97.255717   0.641822   0.883002   \n",
       "sad        2.052566   0.458716   6.272883   0.485100  85.983437   0.378430   \n",
       "surprise   0.325407   0.688073   2.684891   0.512821   0.124224  93.818985   \n",
       "neutral    0.775970   0.229358   1.366854   0.859321   1.387164   0.189215   \n",
       "\n",
       "            neutral  \n",
       "angry      2.457200  \n",
       "disgust    0.040282  \n",
       "fear       2.316213  \n",
       "happy      1.691843  \n",
       "sad        5.820745  \n",
       "surprise   0.543807  \n",
       "neutral   95.508560  "
      ]
     },
     "execution_count": 79,
     "metadata": {},
     "output_type": "execute_result"
    }
   ],
   "source": [
    "plotConfusionMatrix(Y_train,Y_pred)"
   ]
  }
 ],
 "metadata": {
  "kernelspec": {
   "display_name": "Python 3",
   "language": "python",
   "name": "python3"
  },
  "language_info": {
   "codemirror_mode": {
    "name": "ipython",
    "version": 3
   },
   "file_extension": ".py",
   "mimetype": "text/x-python",
   "name": "python",
   "nbconvert_exporter": "python",
   "pygments_lexer": "ipython3",
   "version": "3.5.2"
  }
 },
 "nbformat": 4,
 "nbformat_minor": 2
}
