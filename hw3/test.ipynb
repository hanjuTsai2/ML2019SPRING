{
 "cells": [
  {
   "cell_type": "code",
   "execution_count": 7,
   "metadata": {},
   "outputs": [],
   "source": [
    "import numpy as np\n",
    "import pandas as pd\n",
    "from keras.models import load_model\n",
    "from keras import backend as K\n",
    "import tensorflow as tf\n",
    "from keras.backend import tensorflow_backend\n",
    "from keras.layers.core import K\n",
    "import copy\n",
    "\n",
    "K.set_learning_phase(0)\n",
    "config = tf.ConfigProto(gpu_options=tf.GPUOptions(allow_growth=True))\n",
    "session = tf.Session(config=config)\n",
    "tensorflow_backend.set_session(session)"
   ]
  },
  {
   "cell_type": "code",
   "execution_count": 8,
   "metadata": {},
   "outputs": [],
   "source": [
    "def LoadData():\n",
    "    test = pd.read_csv('./data/test.csv')\n",
    "\n",
    "    X = np.array(test['feature'])\n",
    "    X_test = []\n",
    "    for i in range(X.shape[0]):\n",
    "        x = np.array(X[i].split(' '))\n",
    "        x = x.astype(np.int)\n",
    "        X_test.append(x)\n",
    "    X_test = np.array(X_test)\n",
    "    X_test = X_test.reshape(X_test.shape[0],48,48,1)/255\n",
    "    \n",
    "    return X_test"
   ]
  },
  {
   "cell_type": "code",
   "execution_count": 9,
   "metadata": {},
   "outputs": [],
   "source": [
    "X_train = LoadData()"
   ]
  },
  {
   "cell_type": "code",
   "execution_count": 10,
   "metadata": {},
   "outputs": [
    {
     "name": "stderr",
     "output_type": "stream",
     "text": [
      "/usr/local/lib/python3.5/dist-packages/ipykernel_launcher.py:49: DeprecationWarning: elementwise == comparison failed; this will raise an error in the future.\n"
     ]
    }
   ],
   "source": [
    "modellist = []\n",
    "weight = []\n",
    "\n",
    "# vote12\n",
    "modellist += ['./model/bag/0.h5', './model/bag/8.h5', 'model/model27.h5', \n",
    "              'model/model28.h5', 'model/model30.h5', 'model/model33.h5']\n",
    "\n",
    "weight += [ 0.67, 0.67, 0.6853, 0.68681 , 0.66, 0.679]\n",
    "\n",
    "modellist += ['model/model31.h5']\n",
    "weight += [0.672]\n",
    "\n",
    "xss = X_test\n",
    "\n",
    "final = np.array([0.0] * xss.shape[0] * 7).reshape(xss.shape[0],7)\n",
    "outfile = \"final2\"\n",
    "\n",
    "for i in range(len(modellist)):\n",
    "    model = load_model(modellist[i])\n",
    "    predict = model.predict(xss)\n",
    "    final += predict * (weight[i])\n",
    "    del model\n",
    "\n",
    "for cnt, i in enumerate(final):\n",
    "    final[cnt,:] = (i) / sum(i)\n",
    "    \n",
    "final[:,4] -= 0.08497144288577155\n",
    "final[:,6] -= 0.08877867735470943\n",
    "\n",
    "Y_pred = np.array([])\n",
    "for i in range(len(final)):\n",
    "    Y_pred = np.append(Y_pred, int(np.argmax(final[i])))\n",
    "\n",
    "ans = []\n",
    "for i in range(len(Y_pred)):\n",
    "    ans.append([i,int(Y_pred[i])])\n",
    "np.mean(Y_pred == Y_train)\n",
    "ans = pd.DataFrame(ans,columns=['id', 'label'])\n",
    "ans.to_csv('data/'+ outfile +'.csv', index=False)"
   ]
  }
 ],
 "metadata": {
  "kernelspec": {
   "display_name": "Python 3",
   "language": "python",
   "name": "python3"
  },
  "language_info": {
   "codemirror_mode": {
    "name": "ipython",
    "version": 3
   },
   "file_extension": ".py",
   "mimetype": "text/x-python",
   "name": "python",
   "nbconvert_exporter": "python",
   "pygments_lexer": "ipython3",
   "version": "3.5.2"
  }
 },
 "nbformat": 4,
 "nbformat_minor": 2
}
