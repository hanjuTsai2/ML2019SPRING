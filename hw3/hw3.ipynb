{
 "cells": [
  {
   "cell_type": "code",
   "execution_count": null,
   "metadata": {},
   "outputs": [],
   "source": [
    "import pandas as pd\n",
    "import numpy as np\n",
    "from IPython.display import clear_output\n",
    "import matplotlib.pyplot as plt\n",
    "\n",
    "import keras\n",
    "from keras.utils import to_categorical\n",
    "from keras.constraints import maxnorm\n",
    "from keras.models import Sequential, load_model\n",
    "from keras.optimizers import SGD, RMSprop\n",
    "from keras.preprocessing.image import ImageDataGenerator\n",
    "from keras.layers import Dense, Activation, Dropout, Conv2D, MaxPooling2D, Flatten, PReLU, BatchNormalization\n",
    "from keras.callbacks import EarlyStopping, ModelCheckpoint, ReduceLROnPlateau\n",
    "\n",
    "from sklearn.model_selection import train_test_split"
   ]
  },
  {
   "cell_type": "code",
   "execution_count": null,
   "metadata": {},
   "outputs": [],
   "source": [
    "def LoadData():\n",
    "    train = pd.read_csv('./data/train.csv')\n",
    "    test = pd.read_csv('./data/test.csv')\n",
    "    Y_train = np.array(train['label'])\n",
    "    Y_train = to_categorical(Y_train)\n",
    "    \n",
    "    X = np.array(train['feature'])\n",
    "    X_train = []\n",
    "    for i in range(X.shape[0]):\n",
    "        x = np.array(X[i].split(' '))\n",
    "        x = x.astype(np.int)\n",
    "        X_train.append(x)\n",
    "    X_train = np.array(X_train)\n",
    "    X_train = X_train.reshape(X_train.shape[0],48,48,1)\n",
    "    \n",
    "    X = np.array(test['feature'])\n",
    "    X_test = []\n",
    "    for i in range(X.shape[0]):\n",
    "        x = np.array(X[i].split(' '))\n",
    "        x = x.astype(np.int)\n",
    "        X_test.append(x)\n",
    "    X_test = np.array(X_test)\n",
    "    X_test = X_test.reshape(X_test.shape[0],48,48,1)\n",
    "    \n",
    "    return X_train, Y_train, X_test"
   ]
  },
  {
   "cell_type": "code",
   "execution_count": null,
   "metadata": {},
   "outputs": [],
   "source": [
    "labels = {0: \"angry\", 1:\"disgust\", 2:\"fear\", 3:\"happy\", 4:\"sad\", 5:\"surprise\", 6:\"neutral\"}\n",
    "X_train, Y_train, X_test = LoadData()"
   ]
  },
  {
   "cell_type": "code",
   "execution_count": null,
   "metadata": {},
   "outputs": [],
   "source": [
    "def model_create():\n",
    "    model = Sequential()\n",
    "    model.add(Conv2D(512, (3, 3), activation='relu', input_shape=(48,48,1)))\n",
    "    model.add(MaxPooling2D(pool_size=(2, 2)))\n",
    "#     model.add(Dropout(0.2))\n",
    "\n",
    "    for i in range(3):\n",
    "        model.add(Conv2D(512, (3, 3), activation='relu', kernel_constraint=maxnorm(5)))\n",
    "        model.add(MaxPooling2D(pool_size=(2, 2)))\n",
    "#         model.add(Dropout(0.5))      \n",
    "        model.add(BatchNormalization(scale=True, center=False, momentum=0.99, epsilon=0.001))\n",
    "\n",
    "    model.add(Flatten()) \n",
    "    \n",
    "    for i in range(2):\n",
    "        model.add(Dense(128, activation='relu'))\n",
    "#         model.add(Dropout(0.5))\n",
    "\n",
    "    model.add(Dense(7, activation='softmax'))\n",
    "    prop = RMSprop(lr=0.001, rho=0.9, epsilon=None, decay=0.0)\n",
    "    model.compile(optimizer=prop,\n",
    "                  loss='categorical_crossentropy',\n",
    "                  metrics=['accuracy'])\n",
    "    \n",
    "    return model"
   ]
  },
  {
   "cell_type": "code",
   "execution_count": null,
   "metadata": {},
   "outputs": [],
   "source": [
    "datagen = ImageDataGenerator(\n",
    "        rotation_range=20,\n",
    "        width_shift_range=0.2,\n",
    "        height_shift_range=0.2,\n",
    "        rescale=1./255,\n",
    "        shear_range=0.2,\n",
    "        zoom_range=0.2,\n",
    "        horizontal_flip=True,\n",
    "        fill_mode='nearest')"
   ]
  },
  {
   "cell_type": "code",
   "execution_count": null,
   "metadata": {},
   "outputs": [],
   "source": [
    "outfile  = 'model15'\n",
    "model = model_create()\n",
    "checkpoints = ModelCheckpoint('./model/' + outfile  + '.h5', verbose=2, \n",
    "                              monitor='val_acc', save_best_only=True, mode='auto')\n",
    "\n",
    "reduce_lr = ReduceLROnPlateau(monitor='val_loss', factor=0.1, patience=10, \n",
    "                              verbose=0, mode='auto', min_delta=0.0001, cooldown=0, min_lr=0)"
   ]
  },
  {
   "cell_type": "code",
   "execution_count": null,
   "metadata": {},
   "outputs": [],
   "source": [
    "trainX, testX, trainY, testY = train_test_split(X_train,Y_train,test_size= 0.1)"
   ]
  },
  {
   "cell_type": "code",
   "execution_count": null,
   "metadata": {},
   "outputs": [],
   "source": [
    "BS = 50\n",
    "EPOCHS = 100\n",
    "\n",
    "# train the network\n",
    "train = model.fit_generator(datagen.flow(trainX, trainY, batch_size = BS),\n",
    "                            validation_data=(testX, testY), \n",
    "                            epochs=EPOCHS,\n",
    "                            callbacks=[reduce_lr]\n",
    "                            callbacks=[checkpoints,reduce_lr])"
   ]
  },
  {
   "cell_type": "code",
   "execution_count": null,
   "metadata": {},
   "outputs": [],
   "source": [
    "train = model.fit(X_train, Y_train, batch_size=256, validation_split=0.2,\n",
    "                  epochs=150, verbose=1,shuffle=True,callbacks=[checkpoints,reduce_lr])"
   ]
  },
  {
   "cell_type": "code",
   "execution_count": null,
   "metadata": {},
   "outputs": [],
   "source": [
    "max(train.history['val_acc'])"
   ]
  },
  {
   "cell_type": "code",
   "execution_count": null,
   "metadata": {},
   "outputs": [],
   "source": [
    "model = load_model('./model/' + outfile  + '.h5')\n",
    "ans = model.predict_classes(X_test).astype('int')\n",
    "ans = np.column_stack([list(range(X_test.shape[0])), ans])\n",
    "ans = pd.DataFrame(ans,columns=['id', 'label'])\n",
    "ans.to_csv('data/'+ outfile +'.csv', index=False)"
   ]
  },
  {
   "cell_type": "code",
   "execution_count": null,
   "metadata": {},
   "outputs": [],
   "source": [
    "def plot_sample(X):\n",
    "    plt.imshow(X.reshape(48,48),cmap=\"gray\")"
   ]
  },
  {
   "cell_type": "code",
   "execution_count": null,
   "metadata": {},
   "outputs": [],
   "source": [
    "plot_sample(X_train[2])"
   ]
  }
 ],
 "metadata": {
  "kernelspec": {
   "display_name": "Python 3",
   "language": "python",
   "name": "python3"
  },
  "language_info": {
   "codemirror_mode": {
    "name": "ipython",
    "version": 3
   },
   "file_extension": ".py",
   "mimetype": "text/x-python",
   "name": "python",
   "nbconvert_exporter": "python",
   "pygments_lexer": "ipython3",
   "version": "3.5.2"
  }
 },
 "nbformat": 4,
 "nbformat_minor": 2
}
