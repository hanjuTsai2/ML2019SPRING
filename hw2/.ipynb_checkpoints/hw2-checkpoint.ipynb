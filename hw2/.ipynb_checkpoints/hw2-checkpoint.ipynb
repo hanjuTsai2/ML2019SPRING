{
 "cells": [
  {
   "cell_type": "code",
   "execution_count": 277,
   "metadata": {},
   "outputs": [],
   "source": [
    "import numpy as np\n",
    "import pandas as pd\n",
    "import matplotlib.pyplot as plt"
   ]
  },
  {
   "cell_type": "code",
   "execution_count": 20,
   "metadata": {},
   "outputs": [],
   "source": [
    "class standardScaler():\n",
    "    def fit(self, xss):\n",
    "        self.mean = np.mean(xss, axis=0)\n",
    "        self.sd = np.std(xss, axis=0)\n",
    "\n",
    "    def transform(self, xss):\n",
    "        xss = (xss-self.mean)/(self.sd)\n",
    "        return(xss)"
   ]
  },
  {
   "cell_type": "code",
   "execution_count": 519,
   "metadata": {},
   "outputs": [],
   "source": [
    "def sigmoid(predict):\n",
    "    return(1/(1 + np.exp(-predict)))\n",
    "\n",
    "def loss(y, yhat):\n",
    "    return -np.mean(y*np.log(yhat)) + (1-y)*np.log(1-yhat)\n",
    "\n",
    "def accuarcy(xss,yss,w):\n",
    "    xss = np.column_stack(([1] * len(xss) ,xss))\n",
    "    predict = np.dot(xss,w)\n",
    "    predict = np.array([0  if predict[i] < 0.5 else 1 for i in range(len(predict))])\n",
    "    accur = np.mean(predict == yss)\n",
    "    return(accuar)"
   ]
  },
  {
   "cell_type": "code",
   "execution_count": 896,
   "metadata": {},
   "outputs": [],
   "source": [
    "class Scaler():\n",
    "    def fit(self, xss, dummy_columns, numeric_columns):\n",
    "        \n",
    "        self.numeric_columns = numeric_columns\n",
    "        self.dummy_columns = dummy_columns\n",
    "        \n",
    "        ## process numeric matrix\n",
    "        numeric_vector = xss.iloc[:,numeric_columns]\n",
    "        self.mean = np.mean(numeric_vector)\n",
    "        self.std = np.std(numeric_vector)\n",
    "        \n",
    "        ## process dummy matrix\n",
    "        dummy_vector = xss.iloc[:,dummy_columns]\n",
    "        self.proportion = np.mean(dummy_vector)\n",
    "        \n",
    "    def transform_dummy(self,xs,proportion):\n",
    "        trans_xs = [1 - proportion if x == 1 else proportion for x in xs]\n",
    "        return trans_xs\n",
    "        \n",
    "    def transform_numeric(self,xs, mean, std):\n",
    "        xs = (xs-mean)/std\n",
    "        return(xs)\n",
    "\n",
    "    def transform(self, xss):\n",
    "        row, col = xss.shape\n",
    "        df = []\n",
    "        for c in range(col):\n",
    "            xs = xss.iloc[:,c]\n",
    "            if c in self.dummy_columns:\n",
    "                dff = xs\n",
    "                \n",
    "                idx = self.dummy_columns.index(c)\n",
    "                proportion = self.proportion[idx]\n",
    "                dff = self.transform_dummy(xs,proportion)\n",
    "            else:\n",
    "                idx = self.numeric_columns.index(c)\n",
    "                mean = self.mean[idx]\n",
    "                std = self.std[idx]\n",
    "                dff = self.transform_numeric(xs,mean,std)\n",
    "                \n",
    "            df.append(dff)\n",
    "        df = (np.column_stack(df))\n",
    "        return(pd.DataFrame(df))\n",
    "        "
   ]
  },
  {
   "cell_type": "code",
   "execution_count": null,
   "metadata": {},
   "outputs": [],
   "source": [
    "def get_dummy_id(X_train):\n",
    "    df = X_train.describe().T\n",
    "    row, col = df.shape\n",
    "    dummy_columns = []\n",
    "    numeric_columns = []\n",
    "    for r in range(row):\n",
    "        if df['max'][r] <= 1 and df['min'][r] >= 0:\n",
    "            dummy_columns.append(r)\n",
    "        else:\n",
    "            numeric_columns.append(r)\n",
    "    \n",
    "    return({'dummy_columns': dummy_columns,\n",
    "            'numeric_columns': numeric_columns})"
   ]
  },
  {
   "cell_type": "code",
   "execution_count": 897,
   "metadata": {},
   "outputs": [],
   "source": [
    "res = getData(scale=False)\n",
    "X_train = res['X_train']\n",
    "Y_train = res['Y_train']\n",
    "X_test = res['X_test']\n",
    "\n",
    "res = get_dummy_id(X_train)\n",
    "dummy_columns = res['dummy_columns']\n",
    "numeric_columns = res['numeric_columns']\n",
    "\n",
    "scaler = Scaler()\n",
    "scaler.fit(X_train, dummy_columns, numeric_columns)\n",
    "X_train = scaler.transform(X_train)\n",
    "X_test = scaler.transform(X_test)\n",
    "\n",
    "# transformer = FunctionTransformer(np.expm1, validate=True)\n",
    "# X_train = np.nan_to_num(X_train.values, copy=True)\n",
    "# X_train = transformer.fit_transform(X_train)"
   ]
  },
  {
   "cell_type": "markdown",
   "metadata": {},
   "source": [
    "## feature selection"
   ]
  },
  {
   "cell_type": "code",
   "execution_count": 526,
   "metadata": {},
   "outputs": [],
   "source": [
    "from sklearn.feature_selection import SelectKBest\n",
    "from sklearn.feature_selection import chi2\n",
    "from sklearn.preprocessing import MinMaxScaler\n",
    "\n",
    "def selectFeature(k):\n",
    "    data = getData()\n",
    "    X_train = pd.DataFrame(data['X_train'])\n",
    "    Y_train = data['Y_train']\n",
    "    chi_selector = SelectKBest(chi2, k)\n",
    "    chi_selector.fit(X_norm, Y_train)\n",
    "    chi_support = chi_selector.get_support()\n",
    "    chi_feature = X_train.loc[:,chi_support].columns.tolist()\n",
    "    print(str(len(chi_feature)), 'selected features')\n",
    "    X_train = X_train[chi_feature]\n",
    "    \n",
    "    return({'X_train': X_train, 'feature': chi_feature})"
   ]
  },
  {
   "cell_type": "code",
   "execution_count": 495,
   "metadata": {},
   "outputs": [],
   "source": [
    "from sklearn.model_selection import train_test_split\n",
    "x_train, x_test, y_train, y_test = train_test_split(X_train, Y_train, test_size=0.25, random_state=0)"
   ]
  },
  {
   "cell_type": "code",
   "execution_count": 900,
   "metadata": {},
   "outputs": [],
   "source": [
    "from IPython.display import clear_output\n",
    "\n",
    "def gradientDescent(xss, yss , lr = 1, alpha = 0):\n",
    "    max_iter =  10 ** 3\n",
    "    epochs =  50\n",
    "    \n",
    "    ## get bias\n",
    "    xss = np.column_stack(([1] * len(xss) ,xss))\n",
    "        \n",
    "    num = xss.shape[1]\n",
    "    w = np.zeros(num)\n",
    "    w_lr = np.zeros(num)\n",
    "\n",
    "    for t in range(epochs):\n",
    "        w_grad = None\n",
    "        for m in range(max_iter):\n",
    "            predict = np.dot(xss,w)\n",
    "            predict = sigmoid(predict)\n",
    "            w_grad = np.dot(xss.T, predict-yss)\n",
    "            w -= lr * w_grad / len(w)\n",
    "    \n",
    "        predict = np.array([0  if predict[i] < 0.5 else 1 for i in range(len(predict))])\n",
    "        accur = np.mean(predict == yss)\n",
    "\n",
    "        clear_output()\n",
    "        print(t)\n",
    "        print(predict)\n",
    "        print(accur)\n",
    "    res = {'w': w, 'accuracy': accur}\n",
    "    return (res)"
   ]
  },
  {
   "cell_type": "code",
   "execution_count": 887,
   "metadata": {},
   "outputs": [],
   "source": [
    "from IPython.display import clear_output\n",
    "\n",
    "def stochasticGradientDescent(xss, yss , lr = 1, alpha = 0):\n",
    "    max_iter =  10 ** 5\n",
    "    epochs =  30\n",
    "    \n",
    "    ## get bias\n",
    "    xss = np.column_stack(([1] * len(xss) ,xss))\n",
    "        \n",
    "    num = xss.shape[1]\n",
    "    w = np.zeros(num)\n",
    "    w_lr = np.zeros(num)\n",
    "    l = len(yss)\n",
    "\n",
    "    for t in range(epochs):\n",
    "        w_grad = None\n",
    "        for m in range(max_iter):\n",
    "            ran = np.random.randint(0,l)\n",
    "            xs = xss[ran]\n",
    "            ys = yss[ran]\n",
    "            predict = np.dot(xs,w)\n",
    "            predict = sigmoid(predict)\n",
    "            w_grad = np.dot(xs.T, predict-ys)\n",
    "            w -= lr * w_grad\n",
    "    \n",
    "        predict = np.dot(xss,w)\n",
    "        predict = np.array([0  if predict[i] < 0.5 else 1 for i in range(len(predict))])\n",
    "        accur = np.mean(predict == yss)\n",
    "        clear_output()\n",
    "        print(t)\n",
    "        print(predict)\n",
    "        print(accur)\n",
    "        \n",
    "    res = {'w': w, 'accuracy': accur}\n",
    "    return (res)"
   ]
  },
  {
   "cell_type": "code",
   "execution_count": null,
   "metadata": {},
   "outputs": [],
   "source": [
    "his_train = []\n",
    "his_test = []\n",
    "features = []\n",
    "w_train = []\n",
    "lr_list = np.logspace(-6,0,7)\n",
    "\n",
    "x_train, x_test, y_train, y_test = train_test_split(X_train, Y_train, test_size=0.25, random_state=0)\n",
    "\n",
    "for lr in lr_list:\n",
    "    res = gradientDescent(x_train.values,y_train.values.ravel(),lr)\n",
    "    w = res['w']\n",
    "    accur = res['accuracy']\n",
    "    his_train.append(accur)\n",
    "    w_g.append(w)\n",
    "\n",
    "    predict = np.dot(np.column_stack(([1] * len(x_test.values) , x_test.values)),w)\n",
    "    predict = sigmoid(predict)\n",
    "    predict = np.array([0  if predict[i] < 0.5 else 1 for i in range(len(predict))])\n",
    "    accur = np.mean(predict == y_test.values.ravel())\n",
    "    his_test.append(accur)\n",
    "    print(his_test)\n",
    "\n",
    "print(his)\n",
    "print(his_train)"
   ]
  },
  {
   "cell_type": "code",
   "execution_count": 923,
   "metadata": {},
   "outputs": [
    {
     "name": "stdout",
     "output_type": "stream",
     "text": [
      "49\n",
      "[0 0 0 ... 0 0 1]\n",
      "0.8533521697736556\n"
     ]
    }
   ],
   "source": [
    "X_train = pd.DataFrame(X_train)\n",
    "res = gradientDescent(X_train.values,Y_train.values.ravel(),10**-2)\n",
    "w = res['w']\n",
    "acurr = res['accuracy']"
   ]
  },
  {
   "cell_type": "code",
   "execution_count": 795,
   "metadata": {},
   "outputs": [],
   "source": [
    "outputFile = '0311-2'"
   ]
  },
  {
   "cell_type": "code",
   "execution_count": 925,
   "metadata": {},
   "outputs": [
    {
     "name": "stdout",
     "output_type": "stream",
     "text": [
      "3157\n"
     ]
    }
   ],
   "source": [
    "## save model\n",
    "# np.save('model/'+ outputFile + '.npy',{'w': w, 'scaler': scaler})\n",
    "\n",
    "## output testing data\n",
    "row , col = X_test.shape\n",
    "ans = []\n",
    "for i in range((row)):\n",
    "    x = X_test.iloc[i,:]\n",
    "    x = np.concatenate(([1] ,x))\n",
    "    predict = np.dot(x,w)\n",
    "    predict = sigmoid(predict)\n",
    "    predict =  predict = 0 if predict < 0.5 else 1\n",
    "    val = predict\n",
    "    ans.append([i+1 ,val])\n",
    "    \n",
    "ans = pd.DataFrame(ans,columns=['id', 'label'])\n",
    "print(np.sum(ans['label']))\n",
    "# ans.to_csv('data/'+outputFile+'.csv', index=False)"
   ]
  },
  {
   "cell_type": "code",
   "execution_count": 926,
   "metadata": {},
   "outputs": [
    {
     "name": "stdout",
     "output_type": "stream",
     "text": [
      "3157\n",
      "3158\n"
     ]
    },
    {
     "data": {
      "text/plain": [
       "3"
      ]
     },
     "execution_count": 926,
     "metadata": {},
     "output_type": "execute_result"
    }
   ],
   "source": [
    "lab4 = pd.read_csv('data/0311-1.csv')['label']\n",
    "lab3 = ((ans['label']))\n",
    "print(np.sum(lab3))\n",
    "print(np.sum(lab4))\n",
    "np.sum(lab3 != lab4)"
   ]
  }
 ],
 "metadata": {
  "kernelspec": {
   "display_name": "Python 3",
   "language": "python",
   "name": "python3"
  },
  "language_info": {
   "codemirror_mode": {
    "name": "ipython",
    "version": 3
   },
   "file_extension": ".py",
   "mimetype": "text/x-python",
   "name": "python",
   "nbconvert_exporter": "python",
   "pygments_lexer": "ipython3",
   "version": "3.7.1"
  }
 },
 "nbformat": 4,
 "nbformat_minor": 2
}
