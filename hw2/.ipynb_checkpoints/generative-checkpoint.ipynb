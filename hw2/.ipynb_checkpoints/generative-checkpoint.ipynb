{
 "cells": [
  {
   "cell_type": "code",
   "execution_count": 2,
   "metadata": {},
   "outputs": [],
   "source": [
    "import numpy as np\n",
    "import pandas as pd\n",
    "import matplotlib.pyplot as plt"
   ]
  },
  {
   "cell_type": "code",
   "execution_count": 754,
   "metadata": {},
   "outputs": [],
   "source": [
    "def getData():  \n",
    "    data = pd.read_csv('data/train.csv')\n",
    "    X_train = pd.get_dummies(data.iloc[:,:-1], dummy_na=False, columns=None, sparse=False, drop_first=True, dtype=None)\n",
    "    Y_train = pd.get_dummies(data.iloc[:,-1], dummy_na=False, columns=None, sparse=False, drop_first=True, dtype=None)\n",
    "    \n",
    "    res = get_dummy_id(X_train)\n",
    "    dummy_columns = res['dummy_columns']\n",
    "    numeric_columns = res['numeric_columns']\n",
    "\n",
    "    scaler = Scaler()\n",
    "    scaler.fit(X_train, dummy_columns, numeric_columns)\n",
    "    X_train = scaler.transform(X_train)\n",
    "    \n",
    "    X_test = pd.read_csv('data/test.csv')\n",
    "    X_test = pd.get_dummies(X_test, dummy_na=False, columns=None, sparse=False, drop_first=True, dtype=None)\n",
    "#     missing_cols = set(X_train.columns) - set(X_test.columns)\n",
    "\n",
    "    # Add a missing column in test set with default value equal to 0\n",
    "#     for c in missing_cols:\n",
    "#         X_test[c] = 0\n",
    "\n",
    "    # Ensure the order of column in the test set is in the same order than in train set\n",
    "    X_test = X_test[X_train.columns]\n",
    "    X_test = scaler.transform(X_test)\n",
    "\n",
    "    return ({'X_train' : X_train, 'Y_train': Y_train, 'X_test': X_test} )"
   ]
  },
  {
   "cell_type": "code",
   "execution_count": 728,
   "metadata": {},
   "outputs": [],
   "source": [
    "class Scaler():\n",
    "    def fit(self, xss, dummy_columns, numeric_columns):\n",
    "        \n",
    "        self.numeric_columns = numeric_columns\n",
    "        self.dummy_columns = dummy_columns\n",
    "        \n",
    "        ## process numeric matrix\n",
    "        numeric_vector = xss.iloc[:,numeric_columns]\n",
    "        self.mean = np.mean(numeric_vector)\n",
    "        self.std = np.std(numeric_vector)\n",
    "        \n",
    "        ## process dummy matrix\n",
    "        dummy_vector = xss.iloc[:,dummy_columns]\n",
    "        self.proportion = np.mean(dummy_vector)\n",
    "        \n",
    "    def transform_dummy(self,xs,proportion):\n",
    "        trans_xs = [1 - proportion if x == 1 else proportion for x in xs]\n",
    "        return trans_xs\n",
    "        \n",
    "    def transform_numeric(self,xs, mean, std):\n",
    "        xs = (xs-mean)/std\n",
    "        return(xs)\n",
    "\n",
    "    def transform(self, xss):\n",
    "        row, col = xss.shape\n",
    "        df = []\n",
    "        for c in range(col):\n",
    "            xs = xss.iloc[:,c]\n",
    "            if c in self.dummy_columns:\n",
    "                dff = xs\n",
    "            else:\n",
    "                idx = self.numeric_columns.index(c)\n",
    "                mean = self.mean[idx]\n",
    "                std = self.std[idx]\n",
    "                dff = self.transform_numeric(xs,mean,std)\n",
    "                \n",
    "            df.append(dff)\n",
    "        df = (np.column_stack(df))\n",
    "        return(pd.DataFrame(df))\n",
    "        "
   ]
  },
  {
   "cell_type": "code",
   "execution_count": 440,
   "metadata": {},
   "outputs": [],
   "source": [
    "def sigmoid(predict):\n",
    "    return(1/(1 + np.exp(-predict)))"
   ]
  },
  {
   "cell_type": "code",
   "execution_count": 725,
   "metadata": {},
   "outputs": [],
   "source": [
    "def mean_var(xss):\n",
    "    mu = np.mean(xss,0)\n",
    "    var = np.cov(xss.T)     \n",
    "    return mu, var\n",
    "\n",
    "def gaussian(xs, mu, cov):\n",
    "    col = len(xs)\n",
    "    coeff = 1 / np.sqrt((2 * np.pi) ** col)\n",
    "    determinant = 1 / np.sqrt(np.linalg.det(cov))\n",
    "    term = (-1/2) * np.dot((xs-mu).T, np.linalg.inv(cov))\n",
    "    term = np.dot(term,(xs-mu))\n",
    "    \n",
    "    prob = coeff * determinant * np.exp(term)\n",
    "    return(prob)"
   ]
  },
  {
   "cell_type": "code",
   "execution_count": 651,
   "metadata": {},
   "outputs": [],
   "source": [
    "def get_dummy_id(X_train):\n",
    "    df = X_train.describe().T\n",
    "    row, col = df.shape\n",
    "    dummy_columns = []\n",
    "    numeric_columns = []\n",
    "    for r in range(row):\n",
    "        if df['max'][r] <= 1 and df['min'][r] >= 0:\n",
    "            dummy_columns.append(r)\n",
    "        else:\n",
    "            numeric_columns.append(r)\n",
    "    \n",
    "    return({'dummy_columns': dummy_columns,\n",
    "            'numeric_columns': numeric_columns})"
   ]
  },
  {
   "cell_type": "code",
   "execution_count": null,
   "metadata": {},
   "outputs": [],
   "source": [
    "res = getData()\n",
    "X_train = res['X_train']\n",
    "Y_train = res['Y_train']\n",
    "X_test = res['X_test']"
   ]
  },
  {
   "cell_type": "code",
   "execution_count": 731,
   "metadata": {},
   "outputs": [],
   "source": [
    "col_0 = np.where(Y == 0)\n",
    "col_1 = np.where(Y == 1)\n",
    "\n",
    "X_train = np.array(X_train)\n",
    "x_0 = X_train[col_0]\n",
    "x_1 = X_train[col_1]\n",
    "\n",
    "res = mean_var(x_0)\n",
    "mu_0 = res[0]\n",
    "cov_0 = res[1]\n",
    "\n",
    "res = mean_var(x_1)\n",
    "mu_1 = res[0]\n",
    "cov_1 = res[1]\n",
    "\n",
    "num_0 = len(col_0)\n",
    "num_1 = len(col_1)\n",
    "num = num_0 + num_1\n",
    "cov = (num_0 / num) * cov_0 + (num_1 / num) * cov_1"
   ]
  },
  {
   "cell_type": "code",
   "execution_count": 732,
   "metadata": {},
   "outputs": [
    {
     "data": {
      "text/plain": [
       "16281"
      ]
     },
     "execution_count": 732,
     "metadata": {},
     "output_type": "execute_result"
    }
   ],
   "source": [
    "ans = []\n",
    "for i in range(len(X_test)):\n",
    "    x = X_test.iloc[i,:]\n",
    "    c0 = gaussian(x, mu_0, cov)\n",
    "    c1 = gaussian(x, mu_1, cov)\n",
    "    value = 0 if c0 > c1 else 1\n",
    "    ans.append(value)\n",
    "np.sum(ans)"
   ]
  },
  {
   "cell_type": "code",
   "execution_count": 487,
   "metadata": {},
   "outputs": [],
   "source": [
    "class GBN:\n",
    "    def fit(self,X,Y):\n",
    "        col_0 = np.where(Y == 0)\n",
    "        col_1 = np.where(Y == 1)\n",
    "\n",
    "        self.num_0 = len(col_0)\n",
    "        self.num_1 = len(col_1)\n",
    "        self.num = num_0 + num_1\n",
    "\n",
    "        x_0 = X[col_0]\n",
    "        x_1 = X[col_1]\n",
    "\n",
    "        self.mu_0 = np.mean(x_0,axis=0)\n",
    "        self.mu_1 = np.mean(x_1,axis=0)\n",
    "\n",
    "        self.var_0 = np.cov(x_0.T)\n",
    "        self.var_1 = np.cov(x_1.T)\n",
    "        self.cov = (num_0 / num * self.var_0) + (num_1 / num * self.var_1)\n",
    "\n",
    "    def predict(self,x):\n",
    "\n",
    "        w = np.dot((self.mu_0 - self.mu_1).T, np.linalg.inv(self.cov))\n",
    "        res = np.dot(w,x.T)\n",
    "\n",
    "        b0 = np.dot(mu_0.T,np.linalg.inv(self.cov))\n",
    "        aab0 = np.dot(b0,mu_0)\n",
    "        \n",
    "        b1 = np.dot(mu_1.T,np.linalg.inv(self.cov))\n",
    "        b1 = np.dot(b1,mu_1)\n",
    "        \n",
    "        z_0 = res - (1/2 * b0) + (1/2 * b1) + np.log(self.num_0 / self.num_1)\n",
    "        prob_0 = [sigmoid(i) for i in z_0]\n",
    "        \n",
    "        return(prob_0) "
   ]
  }
 ],
 "metadata": {
  "kernelspec": {
   "display_name": "Python 3",
   "language": "python",
   "name": "python3"
  },
  "language_info": {
   "codemirror_mode": {
    "name": "ipython",
    "version": 3
   },
   "file_extension": ".py",
   "mimetype": "text/x-python",
   "name": "python",
   "nbconvert_exporter": "python",
   "pygments_lexer": "ipython3",
   "version": "3.7.1"
  }
 },
 "nbformat": 4,
 "nbformat_minor": 2
}
