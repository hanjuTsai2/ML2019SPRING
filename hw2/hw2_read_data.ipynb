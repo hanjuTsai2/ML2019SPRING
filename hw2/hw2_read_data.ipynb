{
 "cells": [
  {
   "cell_type": "code",
   "execution_count": null,
   "metadata": {},
   "outputs": [],
   "source": [
    "import numpy as np\n",
    "import pandas as pd\n",
    "import matplotlib.pyplot as plt"
   ]
  },
  {
   "cell_type": "code",
   "execution_count": null,
   "metadata": {},
   "outputs": [],
   "source": [
    "def sigmoid(predict):\n",
    "    return(1/(1 + np.exp(-predict)))\n",
    "\n",
    "def loss(y, yhat):\n",
    "    return -np.mean(y*np.log(yhat)) + (1-y)*np.log(1-yhat)"
   ]
  },
  {
   "cell_type": "code",
   "execution_count": 127,
   "metadata": {},
   "outputs": [],
   "source": [
    "class Scaler():\n",
    "    def fit(self, xss, dummy_columns, numeric_columns):\n",
    "        \n",
    "        self.numeric_columns = numeric_columns\n",
    "        self.dummy_columns = dummy_columns\n",
    "        \n",
    "        ## process numeric matrix\n",
    "        numeric_vector = xss.iloc[:,numeric_columns]\n",
    "        self.mean = np.mean(numeric_vector)\n",
    "        self.std = np.std(numeric_vector)\n",
    "        \n",
    "        ## process dummy matrix\n",
    "        dummy_vector = xss.iloc[:,dummy_columns]\n",
    "        self.proportion = np.mean(dummy_vector)\n",
    "        \n",
    "    def transform_dummy(self,xs,proportion):\n",
    "        trans_xs = [1 - proportion if x == 1 else proportion for x in xs]\n",
    "        return trans_xs\n",
    "        \n",
    "    def transform_numeric(self,xs, mean, std):\n",
    "        xs = (xs-mean)/std\n",
    "        return(xs)\n",
    "\n",
    "    def transform(self, xss):\n",
    "        row, col = xss.shape\n",
    "        df = []\n",
    "        for c in range(col):\n",
    "            xs = xss.iloc[:,c]\n",
    "            if c in self.dummy_columns:\n",
    "                dff = xs\n",
    "            else:\n",
    "                idx = self.numeric_columns.index(c)\n",
    "                mean = self.mean[idx]\n",
    "                std = self.std[idx]\n",
    "                dff = self.transform_numeric(xs,mean,std)\n",
    "                \n",
    "            df.append(dff)\n",
    "        df = (np.column_stack(df))\n",
    "        return(pd.DataFrame(df))"
   ]
  },
  {
   "cell_type": "code",
   "execution_count": null,
   "metadata": {},
   "outputs": [],
   "source": [
    "from sklearn.feature_selection import SelectKBest\n",
    "from sklearn.feature_selection import chi2\n",
    "from sklearn.preprocessing import MinMaxScaler\n",
    "\n",
    "X_train = pd.DataFrame(X_train)\n",
    "X_norm = X_train\n",
    "\n",
    "chi_selector = SelectKBest(chi2, k=89)\n",
    "chi_selector.fit(X_norm, Y_train)\n",
    "chi_support = chi_selector.get_support()\n",
    "chi_feature = X_train.loc[:,chi_support].columns.tolist()\n",
    "X_train = X_train[chi_feature]\n",
    "print(str(len(chi_feature)), 'selected features')"
   ]
  },
  {
   "cell_type": "code",
   "execution_count": null,
   "metadata": {},
   "outputs": [],
   "source": [
    "def get_dummy_id(X_train):\n",
    "    df = X_train.describe().T\n",
    "    row, col = df.shape\n",
    "    dummy_columns = []\n",
    "    numeric_columns = []\n",
    "    for r in range(row):\n",
    "        if df['max'][r] <= 1 and df['min'][r] >= 0:\n",
    "            dummy_columns.append(r)\n",
    "        else:\n",
    "            numeric_columns.append(r)\n",
    "    \n",
    "    return({'dummy_columns': dummy_columns,\n",
    "            'numeric_columns': numeric_columns})"
   ]
  },
  {
   "cell_type": "code",
   "execution_count": 128,
   "metadata": {},
   "outputs": [],
   "source": [
    "from sklearn.preprocessing import FunctionTransformer\n",
    "data = pd.read_csv('data/train.csv')\n",
    "\n",
    "X_train = pd.get_dummies(data.iloc[:,:-1], dummy_na=False, columns=None, sparse=False, drop_first=True, dtype=None)\n",
    "Y_train = pd.get_dummies(data.iloc[:,-1], dummy_na=False, columns=None, sparse=False, drop_first=True, dtype=None)\n",
    "X_train_col = X_train.columns\n",
    "\n",
    "res = get_dummy_id(X_train)\n",
    "dummy_columns = res['dummy_columns']\n",
    "numeric_columns = res['numeric_columns']\n",
    "\n",
    "scaler = Scaler()\n",
    "scaler.fit(X_train, dummy_columns, numeric_columns)\n",
    "X_train = scaler.transform(X_train)"
   ]
  },
  {
   "cell_type": "code",
   "execution_count": 129,
   "metadata": {},
   "outputs": [],
   "source": [
    "X_test = pd.read_csv('data/test.csv')\n",
    "X_test = pd.get_dummies(X_test, dummy_na=False, columns=None, sparse=False, drop_first=True, dtype=None)\n",
    "missing_cols = set(X_train_col) - set(X_test.columns)\n",
    "\n",
    "# Add a missing column in test set with default value equal to 0\n",
    "for c in missing_cols:\n",
    "    X_test[c] = 0\n",
    "    \n",
    "# Ensure the order of column in the test set is in the same order than in train set\n",
    "X_test = X_test[X_train_col]\n",
    "X_test = scaler.transform(X_test)"
   ]
  },
  {
   "cell_type": "code",
   "execution_count": null,
   "metadata": {},
   "outputs": [],
   "source": [
    "from IPython.display import clear_output\n",
    "\n",
    "def gradientDescent(xss, yss, lr = 1, iteration = 200, alpha = 0):\n",
    "    max_iter =  10 ** 3\n",
    "    epochs =  30\n",
    "    \n",
    "    ## get bias\n",
    "    xss = np.column_stack(([1] * len(xss) ,xss))\n",
    "        \n",
    "    num = xss.shape[1]\n",
    "    w = np.zeros(num)\n",
    "    w_lr = np.zeros(num)\n",
    "\n",
    "    for t in range(epochs):\n",
    "        w_grad = None\n",
    "        for m in range(max_iter):\n",
    "            predict = np.dot(xss,w)\n",
    "            predict = sigmoid(predict)\n",
    "            w_grad = np.dot(xss.T, predict-yss)\n",
    "            w -= lr * w_grad / len(w)\n",
    "    \n",
    "        predict = np.array([0  if predict[i] < 0.5 else 1 for i in range(len(predict))])\n",
    "        accur = np.mean(predict == yss)\n",
    "        clear_output()\n",
    "\n",
    "        print(t)\n",
    "        print(predict)\n",
    "        print(accur)\n",
    "    res = {'w': w, 'accuracy': accur}\n",
    "    return (res)"
   ]
  },
  {
   "cell_type": "code",
   "execution_count": null,
   "metadata": {},
   "outputs": [],
   "source": [
    "from sklearn.model_selection import train_test_split\n",
    "\n",
    "his_train = []\n",
    "his_test = []\n",
    "features = []\n",
    "w_train = []\n",
    "lr_list = np.logspace(-6,-2, 5)\n",
    "\n",
    "x_train, x_test, y_train, y_test = train_test_split(X_train, Y_train, test_size=0.25, random_state=0)\n",
    "for lr in lr_list:\n",
    "    res = gradientDescent(x_train,y_train.values.ravel(),lr, 300)\n",
    "    w = res['w']\n",
    "    accur = res['accuracy']\n",
    "    w_train.append(w)\n",
    "    his_train.append(accur)\n",
    "    \n",
    "    predict = np.dot(np.column_stack(([1] * len(x_test) , x_test)),w)\n",
    "    predict = sigmoid(predict)\n",
    "    predict = np.array([0  if predict[i] < 0.5 else 1 for i in range(len(predict))])\n",
    "    accur = np.mean(predict == y_test.values.ravel())\n",
    "    his_test.append(accur)\n",
    "    print(his_test)"
   ]
  },
  {
   "cell_type": "code",
   "execution_count": null,
   "metadata": {},
   "outputs": [],
   "source": [
    "res = gradientDescent(X_train,Y_train.values.ravel(),10**-2, 30)\n",
    "w = res['w']"
   ]
  },
  {
   "cell_type": "code",
   "execution_count": null,
   "metadata": {},
   "outputs": [],
   "source": [
    "outputFile = '0311-3'"
   ]
  },
  {
   "cell_type": "code",
   "execution_count": null,
   "metadata": {},
   "outputs": [],
   "source": [
    "## save model\n",
    "np.save('model/'+ outputFile + '.npy',{'w': w, 'scaler': scaler})\n",
    "\n",
    "## output testing data\n",
    "row , col = X_test.shape\n",
    "ans = []\n",
    "X_test = np.array(X_test)\n",
    "for i in range((row)):\n",
    "    x = X_test[i]\n",
    "    x = x.reshape(-1,1)\n",
    "    x = np.concatenate(([[1]] ,x)).ravel()\n",
    "    predict = np.dot(x,w)\n",
    "    predict = sigmoid(predict)\n",
    "    predict = 0 if predict < 0.5 else 1\n",
    "    val = predict\n",
    "    ans.append([i+1 ,val])\n",
    "\n",
    "ans = pd.DataFrame(ans,columns=['id', 'label'])\n",
    "ans.to_csv('data/'+outputFile+'.csv', index=False)"
   ]
  },
  {
   "cell_type": "code",
   "execution_count": null,
   "metadata": {},
   "outputs": [],
   "source": [
    "lab3 = pd.read_csv('data/0311-1.csv')['label']\n",
    "lab2 = pd.read_csv('data/0311-3.csv')['label']"
   ]
  },
  {
   "cell_type": "code",
   "execution_count": null,
   "metadata": {},
   "outputs": [],
   "source": [
    "outputFile = 'vote'\n",
    "total_lab = (lab1 + lab2 + lab3).values\n",
    "vote = [0 if total_lab[i] <= 2 else 1 for i in total_lab]\n",
    "ans.to_csv('data/'+outputFile+'.csv', index=False)"
   ]
  }
 ],
 "metadata": {
  "kernelspec": {
   "display_name": "Python 3",
   "language": "python",
   "name": "python3"
  },
  "language_info": {
   "codemirror_mode": {
    "name": "ipython",
    "version": 3
   },
   "file_extension": ".py",
   "mimetype": "text/x-python",
   "name": "python",
   "nbconvert_exporter": "python",
   "pygments_lexer": "ipython3",
   "version": "3.7.1"
  }
 },
 "nbformat": 4,
 "nbformat_minor": 2
}
