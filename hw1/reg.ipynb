{
 "cells": [
  {
   "cell_type": "markdown",
   "metadata": {},
   "source": [
    "## Read the training data and import library"
   ]
  },
  {
   "cell_type": "code",
<<<<<<< HEAD
   "execution_count": 166,
=======
   "execution_count": 692,
>>>>>>> af56a2a591fe71e499295eaf19dd43441fad00ce
   "metadata": {},
   "outputs": [],
   "source": [
    "import numpy as np\n",
    "import pandas as pd\n",
    "import pickle"
   ]
  },
  {
   "cell_type": "code",
<<<<<<< HEAD
   "execution_count": 167,
=======
   "execution_count": 693,
>>>>>>> af56a2a591fe71e499295eaf19dd43441fad00ce
   "metadata": {},
   "outputs": [],
   "source": [
    "class standardScaler():\n",
    "    def fit(self, xss):\n",
    "        self.mean = np.mean(xss, axis=0)\n",
    "        self.sd = np.std(xss, axis=0)\n",
    "\n",
    "    def transform(self, xss):\n",
    "        xss = (xss-self.mean)/(self.sd)\n",
    "        return(xss)"
   ]
  },
  {
   "cell_type": "code",
<<<<<<< HEAD
   "execution_count": 168,
   "metadata": {},
   "outputs": [],
   "source": [
=======
   "execution_count": 713,
   "metadata": {},
   "outputs": [],
   "source": [
    "from sklearn.preprocessing import PolynomialFeatures \n",
>>>>>>> af56a2a591fe71e499295eaf19dd43441fad00ce
    "def polyTransform(xss):\n",
    "    xss = np.column_stack([xss, xss**2])\n",
    "    return(xss)"
   ]
  },
  {
   "cell_type": "markdown",
   "metadata": {},
   "source": [
    "## Process the data 9 hours"
   ]
  },
  {
   "cell_type": "code",
<<<<<<< HEAD
   "execution_count": 183,
   "metadata": {},
   "outputs": [],
   "source": [
    "def generate_Initial_Parameters(scale=True):\n",
=======
   "execution_count": 823,
   "metadata": {},
   "outputs": [],
   "source": [
    "def generate_Initial_Parameters(outliers=[], scale=True):\n",
>>>>>>> af56a2a591fe71e499295eaf19dd43441fad00ce
    "    # read data\n",
    "    data = pd.read_csv('data/train.csv', encoding='Big5')\n",
    "    data = data.replace('NR', '0')\n",
    "    data = np.array(data)\n",
    "    \n",
    "    # feature variable\n",
    "    hour = 9\n",
    "    feature_num = 18\n",
    "    day_per_month = 20\n",
    "    per_month_row = feature_num * day_per_month\n",
    "    total_month = int(len(data)/per_month_row) \n",
    "    \n",
    "    month_data = []\n",
    "    for i in range(total_month):\n",
    "        l = data[i * per_month_row: i * per_month_row  + per_month_row]\n",
    "        month_data.append(l)  \n",
    "\n",
    "    hour_data = []\n",
    "    for i in range(len(month_data)):\n",
    "        tmp = []\n",
    "        for j in range(len(month_data[i])):\n",
    "            tmp.append(month_data[i][j])\n",
    "        hour_data.append(tmp)\n",
    "\n",
    "    total = []\n",
    "    for i in range(len(hour_data)):\n",
    "        df = pd.DataFrame(hour_data[i])\n",
    "        row, col = df.shape\n",
    "        tmp = None\n",
    "        for j in range(day_per_month):\n",
    "            per_day = df.iloc[j*feature_num:j*feature_num+feature_num,:]\n",
    "            per_day = per_day.iloc[:,3:]\n",
    "\n",
    "            if tmp is not None:\n",
    "                tmp = pd.concat([tmp.reset_index(drop=True), per_day.reset_index(drop=True)], axis=1, ignore_index=True)\n",
    "            else:\n",
    "                tmp = pd.DataFrame(per_day)   \n",
    "\n",
    "        total.append(tmp)\n",
    "        \n",
    "    xss = []\n",
    "    yss = []\n",
    "    ori_xss = []\n",
    "    ori_yss = []\n",
    "\n",
    "    for i in range(len(total)):\n",
    "        df = total[i]\n",
    "        row, col = df.shape\n",
    "        for j in range(col-hour):\n",
    "            xs = df.iloc[:,j:j+hour]\n",
    "            xs = xs.values.ravel()\n",
    "            ys = float(df.iloc[9,j+hour])\n",
    "\n",
    "            ori_xss.append(xs)\n",
    "            ori_yss.append(float(ys))\n",
    "\n",
    "            if(ys < 0):\n",
    "                continue\n",
    "                \n",
    "            xss.append(xs)\n",
    "            yss.append(float(ys))\n",
    "\n",
    "    xss = pd.DataFrame(xss).values.astype(np.float)\n",
    "    yss = np.array(yss)\n",
    "    ori_xss = pd.DataFrame(ori_xss).values.astype(np.float)\n",
    "    ori_yss = np.array(ori_yss)\n",
    "\n",
    "    if scale:\n",
    "        ## feature scaling\n",
    "        scaler = standardScaler()\n",
    "        scaler.fit(xss)\n",
    "        xss = scaler.transform(xss)\n",
    "        row, col = xss.shape\n",
<<<<<<< HEAD
    "    return ({'xss': xss, 'yss': yss, 'ori_xss': ori_xss, 'ori_yss': ori_yss})"
=======
    "    \n",
    "    if outliers:\n",
    "        xss = np.array([ xss[i] for i in range(len(xss)) if i not in outlier])\n",
    "        yss = np.array([ yss[i] for i in range(len(yss)) if i not in outlier])\n",
    "        \n",
    "    return ({'xss': xss, 'yss': yss, 'ori_xss': ori_xss, 'ori_yss': ori_yss, 'scaler': scaler})"
>>>>>>> af56a2a591fe71e499295eaf19dd43441fad00ce
   ]
  },
  {
   "cell_type": "markdown",
   "metadata": {},
   "source": [
    "## Feature Selection"
   ]
  },
  {
   "cell_type": "code",
<<<<<<< HEAD
   "execution_count": 226,
=======
   "execution_count": 868,
>>>>>>> af56a2a591fe71e499295eaf19dd43441fad00ce
   "metadata": {},
   "outputs": [],
   "source": [
    "from statsmodels.stats.outliers_influence import variance_inflation_factor    \n",
<<<<<<< HEAD
    "def calculate_vif_(X, thresh=150):\n",
=======
    "def calculate_vif_(X, thresh=70):\n",
>>>>>>> af56a2a591fe71e499295eaf19dd43441fad00ce
    "    cols = X.columns\n",
    "    variables = np.arange(X.shape[1])\n",
    "    dropped=True\n",
    "    while dropped:\n",
    "        dropped=False\n",
    "        c = X[cols[variables]].values\n",
    "        vif = [variance_inflation_factor(c, ix) for ix in np.arange(c.shape[1])]\n",
    "\n",
    "        maxloc = vif.index(max(vif))\n",
    "        if max(vif) > thresh:\n",
    "            variables = np.delete(variables, maxloc)\n",
    "            dropped=True\n",
    "\n",
    "    print('Remaining variables:')\n",
    "    print(X.columns[variables])\n",
    "    return (X.columns[variables], X[cols[variables]])"
   ]
  },
  {
   "cell_type": "code",
<<<<<<< HEAD
   "execution_count": 227,
   "metadata": {},
   "outputs": [],
   "source": [
    "param = generate_Initial_Parameters()\n",
    "xss = param['xss']\n",
    "yss = param['yss']"
=======
   "execution_count": 969,
   "metadata": {},
   "outputs": [],
   "source": [
    "param = generate_Initial_Parameters(outlier)\n",
    "xss = param['xss']\n",
    "yss = param['yss']\n",
    "scaler = param['scaler']"
>>>>>>> af56a2a591fe71e499295eaf19dd43441fad00ce
   ]
  },
  {
   "cell_type": "code",
<<<<<<< HEAD
   "execution_count": null,
=======
   "execution_count": 863,
>>>>>>> af56a2a591fe71e499295eaf19dd43441fad00ce
   "metadata": {},
   "outputs": [],
   "source": [
    "xss = polyTransform(xss)"
   ]
  },
  {
   "cell_type": "code",
<<<<<<< HEAD
   "execution_count": null,
   "metadata": {},
   "outputs": [],
   "source": [
    "X_train = pd.DataFrame(xss)\n",
    "xss = X_train.values\n",
    "\n",
    "res = calculate_vif_(X_train)\n",
    "selected_var, xss = res[0], res[1].values"
=======
   "execution_count": 894,
   "metadata": {},
   "outputs": [
    {
     "name": "stdout",
     "output_type": "stream",
     "text": [
      "Remaining variables:\n",
      "Int64Index([  0,   2,   4,   8,   9,  10,  11,  12,  13,  14,\n",
      "            ...\n",
      "            152, 153, 154, 155, 156, 157, 158, 159, 160, 161],\n",
      "           dtype='int64', length=148)\n",
      "Int64Index([  0,   2,   4,   8,   9,  10,  11,  12,  13,  14,\n",
      "            ...\n",
      "            152, 153, 154, 155, 156, 157, 158, 159, 160, 161],\n",
      "           dtype='int64', length=148)\n"
     ]
    }
   ],
   "source": [
    "res = calculate_vif_(pd.DataFrame(xss),80)\n",
    "selected_var = res[0]\n",
    "print(selected_var)"
>>>>>>> af56a2a591fe71e499295eaf19dd43441fad00ce
   ]
  },
  {
   "cell_type": "markdown",
   "metadata": {},
   "source": [
    "## Select only past pm2.5 as factor"
   ]
  },
  {
   "cell_type": "code",
<<<<<<< HEAD
   "execution_count": 52,
   "metadata": {},
   "outputs": [],
   "source": [
    "selected_var = np.array([  0,   2,   4,   7,   8,   9,  10,  11,  12,  13,  14,  15,  16,  17,  18,  19,  20,  21,  22,  23,  24,  25,  26,  27,  28,  29, 30,  31,  32,  33,  34,  35,  36,  37,  38,  39,  40,  41,  42, 43,  44,  45,  46,  47,  48,  49,  50,  51,  52,  53,  63,  64,  65,  66,  67,  68,  69,  70,  71,  72,  73,  74,  75,  76,  77, 78,  79,  80,  81,  82,  83,  84,  85,  86,  87,  88,  89,  90, 91,  92,  93,  94,  95,  96,  97,  98,  99, 100, 101, 102, 103, 104, 105, 106, 107, 108, 109, 110, 111, 112, 113, 114, 115, 116,       117, 118, 119, 120, 121, 122, 123, 124, 125, 126, 127, 128, 129,       130, 131, 132, 133, 134, 135, 136, 137, 138, 139, 140, 141, 142, 143, 144, 145, 146, 147, 148, 149, 150, 151, 152, 153, 154, 155,  156, 157, 158, 159, 160, 161]) "
=======
   "execution_count": 931,
   "metadata": {},
   "outputs": [],
   "source": [
    "selected_var = np.array([  0,   2,   4,   7,   8,   9,  10,  11,  12,  13,  14,  15,  16,  17,  18,  19,  20,  21,  22,  23,  24,  25,  26,  27,  28,  29, 30,  31,  32,  33,  34,  35,  36,  37,  38,  39,  40,  41,  42, 43,  44,  45,  46,  47,  48,  49,  50,  51,  52,  53,  63,  64,  65,  66,  67,  68,  69,  70,  71,  72,  73,  74,  75,  76,  77, 78,  79,  80,  81,  82,  83,  84,  85,  86,  87,  88,  89,  90, 91,  92,  93,  94,  95,  96,  97,  98,  99, 100, 101, 102, 103, 104, 105, 106, 107, 108, 109, 110, 111, 112, 113, 114, 115, 116,       117, 118, 119, 120, 121, 122, 123, 124, 125, 126, 127, 128, 129,130, 131, 132, 133, 134, 135, 136, 137, 138, 139, 140, 141, 142, 143, 144, 145, 146, 147, 148, 149, 150, 151, 152, 153, 154, 155,  156, 157, 158, 159, 160, 161]) "
>>>>>>> af56a2a591fe71e499295eaf19dd43441fad00ce
   ]
  },
  {
   "cell_type": "code",
<<<<<<< HEAD
   "execution_count": 186,
=======
   "execution_count": 970,
>>>>>>> af56a2a591fe71e499295eaf19dd43441fad00ce
   "metadata": {},
   "outputs": [],
   "source": [
    "# selected_var = np.array([(i)*feature_num +9 for i in range(9)]\n",
<<<<<<< HEAD
    "X_train = X_train[selected_var]"
=======
    "X_train = pd.DataFrame(xss)\n",
    "X_train = X_train[selected_var]\n",
    "xss = X_train.values"
>>>>>>> af56a2a591fe71e499295eaf19dd43441fad00ce
   ]
  },
  {
   "cell_type": "markdown",
   "metadata": {},
   "source": [
    "## Train Test Split"
   ]
  },
  {
   "cell_type": "code",
<<<<<<< HEAD
   "execution_count": 187,
=======
   "execution_count": 919,
>>>>>>> af56a2a591fe71e499295eaf19dd43441fad00ce
   "metadata": {},
   "outputs": [],
   "source": [
    "from sklearn.model_selection import train_test_split\n",
<<<<<<< HEAD
    "X_train, X_test, Y_train, Y_test = train_test_split(xss, yss, test_size=0.2, random_state=42)"
=======
    "X_train, X_test, Y_train, Y_test = train_test_split(xss, yss, test_size=0.2, random_state=20)"
>>>>>>> af56a2a591fe71e499295eaf19dd43441fad00ce
   ]
  },
  {
   "cell_type": "markdown",
   "metadata": {},
   "source": [
    "## Train the model. Don't forget to remove the clear_output"
   ]
  },
  {
   "cell_type": "code",
<<<<<<< HEAD
   "execution_count": 208,
=======
   "execution_count": 942,
>>>>>>> af56a2a591fe71e499295eaf19dd43441fad00ce
   "metadata": {},
   "outputs": [],
   "source": [
    "from IPython.display import clear_output\n",
<<<<<<< HEAD
    "\n",
    "def gradientDescent(xss, yss , alpha):\n",
    "    lr = 1\n",
    "    max_iter = 10 ** 3\n",
    "    epochs = 200\n",
=======
    "def gradientDescent(xss, yss , alpha):\n",
    "    lr = 1\n",
    "    max_iter = 10 ** 3\n",
    "    epochs = 10 ** 3\n",
>>>>>>> af56a2a591fe71e499295eaf19dd43441fad00ce
    "    \n",
    "    ## get bias\n",
    "    xss = np.column_stack(([1] * len(xss) ,xss))\n",
    "    num = xss.shape[1]\n",
    "    w = np.zeros(num)\n",
    "    w_lr = np.zeros(num)\n",
    "    \n",
    "    for t in range(epochs):\n",
    "        w_grad = None\n",
    "        for m in range(max_iter):\n",
    "            predict = np.dot(xss,w)\n",
    "            w_grad = -(2 * np.dot(xss.T,(yss - predict))) + (alpha * np.sum(w**2) * 2)\n",
    "            w_lr = w_lr + w_grad ** 2\n",
    "            w = w - lr/np.sqrt(w_lr) * w_grad\n",
    "\n",
    "        clear_output()\n",
<<<<<<< HEAD
    "        print(t)\n",
    "        print(np.sqrt(np.mean([ x*x for x in (yss-predict)])))\n",
    "        \n",
=======
    "        print(np.sqrt(np.mean([ x*x for x in (yss-predict)])))  \n",
>>>>>>> af56a2a591fe71e499295eaf19dd43441fad00ce
    "    return (w)"
   ]
  },
  {
   "cell_type": "code",
<<<<<<< HEAD
   "execution_count": 219,
=======
   "execution_count": 909,
>>>>>>> af56a2a591fe71e499295eaf19dd43441fad00ce
   "metadata": {},
   "outputs": [
    {
     "name": "stdout",
     "output_type": "stream",
     "text": [
<<<<<<< HEAD
      "199\n",
      "5.564586279416581\n"
=======
      "13.814941246418558\n",
      "[14.054808608930687, 14.381334777227703, 14.045397268375808, 15.131612660065246, 13.219511280023257, 13.589042243602272, 14.551818451520035]\n",
      "4\n"
>>>>>>> af56a2a591fe71e499295eaf19dd43441fad00ce
     ]
    }
   ],
   "source": [
<<<<<<< HEAD
    "# alpha_list = [0.1, 0.01, 0.001, 0.0001]\n",
    "alpha_list = [0.01]\n",
    "his = []\n",
    "for alpha in alpha_list:\n",
    "    print(alpha)\n",
    "    w = gradientDescent(X_train, Y_train, alpha)\n",
    "    ori_xss = np.column_stack(([1] * len(X_test) ,X_test))\n",
    "    ori_yss = Y_test\n",
    "\n",
    "    predict = np.dot(ori_xss,w)\n",
    "    rmse = (np.sqrt(np.mean([ x*x for x in (ori_yss-predict)])))\n",
    "    his.append(rmse)"
=======
    "alpha_list = [10, 6, 5, 4, 3, 2, 1, 0.5, 0.3, 0.2, 0.1, 0.01, 0.001, 0.0001]\n",
    "alpha_list = np.logspace(-5, 5, 5)\n",
    "alpha_list = [0]\n",
    "total_his = []\n",
    "\n",
    "param = generate_Initial_Parameters()\n",
    "tmp = param['xss']\n",
    "yss = param['yss']\n",
    "scaler = param['scaler']\n",
    "\n",
    "for i in range(10,150,10):\n",
    "    his = []\n",
    "    res = calculate_vif_(pd.DataFrame(xss),i)\n",
    "    selected_var = res[0]\n",
    "    X_train = pd.DataFrame(tmp)\n",
    "    X_train = X_train[selected_var]\n",
    "    xss = X_train.values\n",
    "    for seed in range(20,90,10):\n",
    "        X_train, X_test, Y_train, Y_test = train_test_split(xss, yss, test_size=0.2, random_state=seed)\n",
    "\n",
    "        alpha = 0\n",
    "        w = gradientDescent(X_train, Y_train, alpha)\n",
    "        xss_tmp = np.column_stack(([1] * len(X_test) ,X_test))\n",
    "        yss_tmp = Y_test\n",
    "        predict = np.dot(xss_tmp ,w)\n",
    "        rmse = (np.sqrt(np.mean([ x*x for x in (yss_tmp-predict)])))\n",
    "        his.append(rmse)\n",
    "\n",
    "        print(his)\n",
    "        print(his.index(min(his)))\n",
    "        \n",
    "    total_his.append(his)"
>>>>>>> af56a2a591fe71e499295eaf19dd43441fad00ce
   ]
  },
  {
   "cell_type": "code",
<<<<<<< HEAD
   "execution_count": 221,
   "metadata": {},
   "outputs": [
    {
     "data": {
      "text/plain": [
       "(5480, 149)"
      ]
     },
     "execution_count": 221,
     "metadata": {},
     "output_type": "execute_result"
    }
   ],
   "source": [
    "xss.shape\n",
    "# w = gradientDescent(xss, yss, alpha = 0.01)"
=======
   "execution_count": 960,
   "metadata": {},
   "outputs": [
    {
     "name": "stdout",
     "output_type": "stream",
     "text": [
      "Remaining variables:\n",
      "Int64Index([  0,   1,   2,   3,   4,   5,   6,   7,   8,   9,\n",
      "            ...\n",
      "            138, 139, 140, 141, 142, 143, 144, 145, 146, 147],\n",
      "           dtype='int64', length=148)\n"
     ]
    }
   ],
   "source": [
    "res = calculate_vif_(pd.DataFrame(xss),80)\n",
    "selected_var = res[0]"
>>>>>>> af56a2a591fe71e499295eaf19dd43441fad00ce
   ]
  },
  {
   "cell_type": "code",
   "execution_count": null,
   "metadata": {},
   "outputs": [],
   "source": [
<<<<<<< HEAD
    "test = pd.read_csv('data/test.csv', encoding='Big5', header=None)\n",
    "test = test.replace('NR', '0')\n",
    "file = '0305-2'"
=======
    "w = gradientDescent(xss, yss, alpha = 0)"
   ]
  },
  {
   "cell_type": "code",
   "execution_count": 820,
   "metadata": {},
   "outputs": [],
   "source": [
    "test = pd.read_csv('data/test.csv', encoding='Big5', header=None)\n",
    "test = test.replace('NR', '0')\n",
    "file = '0306-6'"
>>>>>>> af56a2a591fe71e499295eaf19dd43441fad00ce
   ]
  },
  {
   "cell_type": "code",
<<<<<<< HEAD
   "execution_count": null,
=======
   "execution_count": 821,
>>>>>>> af56a2a591fe71e499295eaf19dd43441fad00ce
   "metadata": {},
   "outputs": [],
   "source": [
    "import pickle\n",
<<<<<<< HEAD
    "dic = {'w': w, 'scaler': scaler, 'selected_var' : selected_var}\n",
=======
    "dic = {'w': w, 'scaler': scaler, 'selected_var' : selected_var, 'alpha' : alpha}\n",
>>>>>>> af56a2a591fe71e499295eaf19dd43441fad00ce
    "with open('model/'+file+'.pkl', 'wb') as f:\n",
    "    pickle.dump(dic, f)"
   ]
  },
  {
   "cell_type": "code",
<<<<<<< HEAD
   "execution_count": null,
   "metadata": {},
   "outputs": [],
   "source": [
=======
   "execution_count": 822,
   "metadata": {},
   "outputs": [],
   "source": [
    "w = dic['w']\n",
    "scaler = dic['scaler']\n",
    "selected_var = dic['selected_var']\n",
    "\n",
>>>>>>> af56a2a591fe71e499295eaf19dd43441fad00ce
    "ans = pd.read_csv('data/sampleSubmission.csv', encoding='Big5')\n",
    "test_feature = 18\n",
    "total_test = []\n",
    "row, col = test.shape\n",
    "test_number = int(row/test_feature)\n",
<<<<<<< HEAD
    "print(test_number)\n",
=======
    "\n",
>>>>>>> af56a2a591fe71e499295eaf19dd43441fad00ce
    "for i in range(test_number):\n",
    "    df = test.iloc[i*test_feature:(i+1)*test_feature, 2:]\n",
    "    xs = df.values.ravel().astype(np.float)\n",
    "    xs = (scaler.transform([xs])[0])\n",
<<<<<<< HEAD
    "    xs = [xs[i] for i in range(len(xs)) if i in selected_var]\n",
    "    xs = np.concatenate(([1], xs))\n",
    "    val = np.dot(xs,w)\n",
    "    if val < 0:\n",
    "        val = (round(val,0))\n",
    "    else:\n",
    "        print(val)\n",
    "        break\n",
    "    ans.iloc[i,1] = val\n",
    "# ans.to_csv('data/'+file+'.csv',index=False)"
=======
    "    xs = np.array([[xs[i] for i in range(len(xs)) if i in selected_var]])\n",
    "    xs = polyTransform(xs)[0]\n",
    "    xs = np.concatenate(([1], xs))\n",
    "    val = np.dot(xs,w)\n",
    "    ans.iloc[i,1] = val\n",
    "ans.to_csv('data/'+file+'.csv',index=False)"
>>>>>>> af56a2a591fe71e499295eaf19dd43441fad00ce
   ]
  },
  {
   "cell_type": "code",
<<<<<<< HEAD
   "execution_count": 217,
=======
   "execution_count": 853,
>>>>>>> af56a2a591fe71e499295eaf19dd43441fad00ce
   "metadata": {},
   "outputs": [
    {
     "name": "stdout",
     "output_type": "stream",
     "text": [
<<<<<<< HEAD
      "120\n"
=======
      "199\n",
      "65.15307277970692\n",
      "rmse = 73250.29458774868\n"
     ]
    }
   ],
   "source": [
    "import matplotlib.pyplot as plt\n",
    "his = []\n",
    "his_train = []\n",
    "alphas = np.logspace(-5, 5, 5)\n",
    "min_rmse = 10000\n",
    "for m in range(len(alphas)):\n",
    "    for k in range(10,50,5):\n",
    "        alpha = alphas[m]\n",
    "        if k % 10 == 0:\n",
    "            clear_output()\n",
    "            \n",
    "        ## take all \n",
    "        param = generate_Initial_Parameters()\n",
    "        xss = param['xss']\n",
    "        yss = param['yss']\n",
    "        xss = xss[:,selected_var]\n",
    "        X_train, X_test, Y_train, Y_test = train_test_split(xss, yss, test_size=0.2, random_state=28)\n",
    "        w = gradientDescent(X_train, Y_train, alpha = alpha)\n",
    "        \n",
    "        val = np.column_stack(([1] * len(X_train) ,X_train))\n",
    "        predict = np.dot(val,w)\n",
    "        predict = np.array([round(i,0) for i in predict])\n",
    "        Y_train = np.array(Y_train)\n",
    "\n",
    "        error = (predict-Y_train)\n",
    "        rmse = np.sqrt(np.mean(error**2))\n",
    "        his_train.append(rmse)\n",
    "        print('training rmse =', rmse, end=',')\n",
    "        \n",
    "        ## take the outliers out\n",
    "        outlier = [ i for i in range(len(error)) if abs(error[i]) >= k]\n",
    "        X_train = [ X_train[i] for i in range(len(X_train)) if i not in outlier]\n",
    "        Y_train = [ Y_train[i] for i in range(len(Y_train)) if i not in outlier]\n",
    "        \n",
    "        w = gradientDescent(X_train, Y_train, alpha = alpha)\n",
    "        val = np.column_stack(([1] * len(X_test) ,X_test))\n",
    "        predict = np.dot(val,w)\n",
    "        predict = np.array([round(i,0) for i in predict])\n",
    "        Y_test = np.array(Y_test)\n",
    "        \n",
    "        error = (predict-Y_test)\n",
    "        rmse = np.sqrt(np.mean(error**2))\n",
    "        \n",
    "        min_rmse = min(rmse, min_rmse)\n",
    "        if min_rmse == rmse:\n",
    "            res['w'] = w\n",
    "            res['alpha'] = alpha\n",
    "            res['k'] = k\n",
    "            \n",
    "        print('rmse =', rmse)\n",
    "        his.append(rmse)"
   ]
  },
  {
   "cell_type": "code",
   "execution_count": 968,
   "metadata": {},
   "outputs": [
    {
     "name": "stdout",
     "output_type": "stream",
     "text": [
      "[415, 416, 417, 418, 1215, 2204, 2289, 2290, 2832]\n"
>>>>>>> af56a2a591fe71e499295eaf19dd43441fad00ce
     ]
    },
    {
     "data": {
<<<<<<< HEAD
      "image/png": "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\n",
=======
      "image/png": "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\n",
>>>>>>> af56a2a591fe71e499295eaf19dd43441fad00ce
      "text/plain": [
       "<Figure size 432x288 with 1 Axes>"
      ]
     },
     "metadata": {
      "needs_background": "light"
     },
     "output_type": "display_data"
    }
   ],
   "source": [
<<<<<<< HEAD
    "import matplotlib.pyplot as plt\n",
    "with open('model/0304-3.pkl', 'rb') as f:\n",
    "    dic = pickle.load(f)\n",
    "\n",
    "w = dic['w']\n",
    "scaler = dic['scaler']\n",
    "selected_var = dic['selected_var']\n",
    "\n",
    "param = generate_Initial_Parameters()\n",
    "xss = param['xss']\n",
    "yss = param['yss']\n",
    "\n",
    "xss = xss[:,selected_var]\n",
    "\n",
    "val = np.column_stack(([1] * len(xss) ,xss))\n",
    "predict = np.dot(val,w)\n",
    "# predict = np.array([max(0,predict[i]) for i in range(len(predict))])\n",
    "\n",
    "error = (predict-yss)\n",
    "plt.plot(error)\n",
    "\n",
    "outlier = [ i for i in range(len(error)) if abs(error[i]) >= 13]\n",
    "print(len(outlier))\n",
    "\n",
    "xss = [ xss[i] for i in range(len(xss)) if i not in outlier]\n",
    "yss = [ yss[i] for i in range(len(yss)) if i not in outlier]\n",
    "xss = pd.DataFrame(xss)"
=======
    "error = np.dot(np.column_stack(([1] * len(xss) ,xss)),w) - yss \n",
    "plt.plot(error)\n",
    "outlier =  [ i for i in range(len(error)) if abs(error[i]) >= 100]\n",
    "print(outlier)"
   ]
  },
  {
   "cell_type": "code",
   "execution_count": null,
   "metadata": {},
   "outputs": [],
   "source": [
    "k=res['k']\n",
    "al=res['alpha']\n",
    "w = res['w']\n",
    "\n",
    "param = generate_Initial_Parameters(outliers=[])\n",
    "xss = param['xss']\n",
    "xss = xss[:,selected_var]\n",
    "xss = polyTransform(xss)\n",
    "yss = param['yss']\n",
    "scaler = param['scaler']\n",
    "\n",
    "val = np.column_stack([([1] * len(xss)) , xss])\n",
    "predict = np.dot(val,w)\n",
    "predict = np.array([round(i,0) for i in predict])\n",
    "yss = np.array(yss)\n",
    "error = (predict-yss)\n",
    "outlier = [ i for i in range(len(error)) if abs(error[i]) >= k]\n",
    "print(len(outlier))\n",
    "\n",
    "param = generate_Initial_Parameters(outliers=outlier)\n",
    "xss = param['xss']\n",
    "xss = xss[:,selected_var]\n",
    "yss = param['yss']\n",
    "scaler = param['scaler']\n",
    "\n",
    "val = np.column_stack(([1] * len(xss) ,xss))\n",
    "predict = np.dot(val,w)\n",
    "predict = np.array([round(i,0) for i in predict])\n",
    "yss = np.array(yss)\n",
    "w = gradientDescent(xss, yss , alpha = 10)\n",
    "print(len(w))"
>>>>>>> af56a2a591fe71e499295eaf19dd43441fad00ce
   ]
  }
 ],
 "metadata": {
  "kernelspec": {
   "display_name": "Python 3",
   "language": "python",
   "name": "python3"
  },
  "language_info": {
   "codemirror_mode": {
    "name": "ipython",
    "version": 3
   },
   "file_extension": ".py",
   "mimetype": "text/x-python",
   "name": "python",
   "nbconvert_exporter": "python",
   "pygments_lexer": "ipython3",
   "version": "3.7.1"
  }
 },
 "nbformat": 4,
 "nbformat_minor": 2
}
