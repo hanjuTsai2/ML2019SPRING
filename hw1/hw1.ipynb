{
 "cells": [
  {
   "cell_type": "code",
   "execution_count": 110,
   "metadata": {},
   "outputs": [],
   "source": [
    "import numpy as np\n",
    "import pandas as pd"
   ]
  },
  {
   "cell_type": "code",
   "execution_count": 111,
   "metadata": {},
   "outputs": [],
   "source": [
    "data = pd.read_csv('data/train.csv', encoding='Big5')\n",
    "data = data.replace('NR', '0')\n",
    "data = np.array(data)"
   ]
  },
  {
   "cell_type": "code",
   "execution_count": 76,
   "metadata": {},
   "outputs": [],
   "source": [
    "hour = 9\n",
    "feature_num = 18\n",
    "day_per_month = 20\n",
    "per_month_row = feature_num * day_per_month\n",
    "total_month = int(len(data)/per_month_row) "
   ]
  },
  {
   "cell_type": "code",
   "execution_count": 77,
   "metadata": {},
   "outputs": [],
   "source": [
    "month_data = []\n",
    "for i in range(total_month):\n",
    "    l = data[i * per_month_row: i * per_month_row  + per_month_row]\n",
    "    month_data.append(l)  \n",
    "    \n",
    "hour_data = []\n",
    "for i in range(len(month_data)):\n",
    "    tmp = []\n",
    "    for j in range(len(month_data[i])):\n",
    "        tmp.append(month_data[i][j])\n",
    "    hour_data.append(tmp)"
   ]
  },
  {
   "cell_type": "code",
   "execution_count": 78,
   "metadata": {},
   "outputs": [],
   "source": [
    "total = []\n",
    "for i in range(len(hour_data)):\n",
    "    df = pd.DataFrame(hour_data[i])\n",
    "    row, col = df.shape\n",
    "    tmp = None\n",
    "    for j in range(day_per_month):\n",
    "   \n",
    "        per_day = df.iloc[j*feature_num:j*feature_num+feature_num,:]\n",
    "        per_day = per_day.iloc[:,3:]\n",
    "        \n",
    "        if tmp is not None:\n",
    "            tmp = pd.concat([tmp.reset_index(drop=True), per_day.reset_index(drop=True)], axis=1, ignore_index=True)\n",
    "        else:\n",
    "            tmp = pd.DataFrame(per_day)    \n",
    "    total.append(tmp)"
   ]
  },
  {
   "cell_type": "code",
   "execution_count": 95,
   "metadata": {},
   "outputs": [],
   "source": [
    "xss = []\n",
    "yss = []\n",
    "\n",
    "for i in range(len(total)):\n",
    "    df = total[i]\n",
    "    row, col = df.shape\n",
    "    for j in range(col-hour-1):\n",
    "        xs = df.iloc[:,j:j+hour]\n",
    "        xs = xs.values.ravel()\n",
    "        xss.append(xs)\n",
    "        yss.append(float(df.iloc[9,j+hour+1]))\n",
    "xss = pd.DataFrame(xss).values.astype(np.float)\n",
    "xss = np.column_stack(([1] * len(xss) ,xss))\n",
    "yss = np.array(yss)"
   ]
  },
  {
   "cell_type": "code",
   "execution_count": null,
   "metadata": {},
   "outputs": [
    {
     "name": "stdout",
     "output_type": "stream",
     "text": [
      "1283.5863767115115\n",
      "1125.6077893315924\n",
      "1104.3370169286586\n",
      "1086.8164118691748\n",
      "1071.0641640367405\n",
      "1056.782144674644\n",
      "1043.7628793418692\n",
      "1031.84279575743\n",
      "1020.8891376886706\n",
      "1010.791972435056\n",
      "1001.4588301207905\n",
      "992.8109397080812\n",
      "984.7804944075796\n",
      "977.3086101187431\n",
      "970.3437665841528\n",
      "963.8405942625881\n",
      "957.7589146834304\n",
      "952.0629704397605\n",
      "946.7207995741537\n",
      "941.7037216244213\n"
     ]
    }
   ],
   "source": [
    "max_iter = 10 ** 5\n",
    "epochs = 10 ** 3\n",
    "lr = 10 ** -5\n",
    "w = np.zeros(feature_num * hour+1)\n",
    "w_lr = np.ones(feature_num * hour+1)\n",
    "\n",
    "for t in range(epochs): \n",
    "    predict_arr = []\n",
    "    for m in range(max_iter):\n",
    "        predict = np.dot(xss,w)\n",
    "        w_grad = (2 * np.dot(xss.T,(predict - yss)))\n",
    "        predict_arr.append(np.sum([x**2 for x in (predict - yss)]))\n",
    "        w_lr = w_lr + w_grad ** 2\n",
    "        w = w - lr/np.sqrt(w_lr) * w_grad\n",
    "\n",
    "    print(np.sqrt(np.mean(predict_arr)))"
   ]
  },
  {
   "cell_type": "code",
   "execution_count": 43,
   "metadata": {},
   "outputs": [],
   "source": [
    "test = pd.read_csv('data/test.csv', encoding='Big5', header=None)"
   ]
  },
  {
   "cell_type": "code",
   "execution_count": 45,
   "metadata": {},
   "outputs": [
    {
     "name": "stdout",
     "output_type": "stream",
     "text": [
      "240\n"
     ]
    }
   ],
   "source": [
    "test_feature = 18\n",
    "total_test = []\n",
    "row, col = test.shape\n",
    "test_number = int(row/test_feature)\n",
    "print(test_number)\n",
    "for i in range(r):\n",
    "    df = test.iloc[]\n",
    "    total_test.append()"
   ]
  },
  {
   "cell_type": "code",
   "execution_count": 46,
   "metadata": {},
   "outputs": [
    {
     "data": {
      "text/plain": [
       "(241, 2)"
      ]
     },
     "execution_count": 46,
     "metadata": {},
     "output_type": "execute_result"
    }
   ],
   "source": [
    "ans = pd.read_csv('data/sampleSubmission.csv', encoding='Big5', header=None)\n",
    "ans.shape"
   ]
  },
  {
   "cell_type": "code",
   "execution_count": null,
   "metadata": {},
   "outputs": [],
   "source": [
    "x"
   ]
  }
 ],
 "metadata": {
  "kernelspec": {
   "display_name": "Python 3",
   "language": "python",
   "name": "python3"
  },
  "language_info": {
   "codemirror_mode": {
    "name": "ipython",
    "version": 3
   },
   "file_extension": ".py",
   "mimetype": "text/x-python",
   "name": "python",
   "nbconvert_exporter": "python",
   "pygments_lexer": "ipython3",
   "version": "3.7.2"
  }
 },
 "nbformat": 4,
 "nbformat_minor": 2
}
