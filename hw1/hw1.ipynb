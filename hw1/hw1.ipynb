{
 "cells": [
  {
   "cell_type": "code",
   "execution_count": 15,
   "metadata": {},
   "outputs": [],
   "source": [
    "import numpy as np\n",
    "import pandas as pd"
   ]
  },
  {
   "cell_type": "code",
   "execution_count": 16,
   "metadata": {},
   "outputs": [],
   "source": [
    "data = pd.read_csv('data/train.csv', encoding='Big5')\n",
    "data = data.replace('NR', '0')\n",
    "data = np.array(data)"
   ]
  },
  {
   "cell_type": "code",
   "execution_count": 17,
   "metadata": {},
   "outputs": [],
   "source": [
    "hour = 9\n",
    "feature_num = 18\n",
    "day_per_month = 20\n",
    "per_month_row = feature_num * day_per_month\n",
    "total_month = int(len(data)/per_month_row) "
   ]
  },
  {
   "cell_type": "code",
   "execution_count": 18,
   "metadata": {},
   "outputs": [],
   "source": [
    "month_data = []\n",
    "for i in range(total_month):\n",
    "    l = data[i * per_month_row: i * per_month_row  + per_month_row]\n",
    "    month_data.append(l)  \n",
    "\n",
    "hour_data = []\n",
    "for i in range(len(month_data)):\n",
    "    tmp = []\n",
    "    for j in range(len(month_data[i])):\n",
    "        tmp.append(month_data[i][j])\n",
    "    hour_data.append(tmp)"
   ]
  },
  {
   "cell_type": "code",
   "execution_count": 19,
   "metadata": {},
   "outputs": [],
   "source": [
    "total = []\n",
    "for i in range(len(hour_data)):\n",
    "    df = pd.DataFrame(hour_data[i])\n",
    "    row, col = df.shape\n",
    "    tmp = None\n",
    "    for j in range(day_per_month):\n",
    "        per_day = df.iloc[j*feature_num:j*feature_num+feature_num,:]\n",
    "        per_day = per_day.iloc[:,3:]\n",
    "        \n",
    "        if tmp is not None:\n",
    "            tmp = pd.concat([tmp.reset_index(drop=True), per_day.reset_index(drop=True)], axis=1, ignore_index=True)\n",
    "        else:\n",
    "            tmp = pd.DataFrame(per_day)   \n",
    "     \n",
    "    total.append(tmp)"
   ]
  },
  {
   "cell_type": "code",
   "execution_count": 20,
   "metadata": {},
   "outputs": [],
   "source": [
    "xss = []\n",
    "yss = []\n",
    "for i in range(len(total)):\n",
    "    df = total[i]\n",
    "    row, col = df.shape\n",
    "    for j in range(col-hour-1):\n",
    "        xs = df.iloc[:,j:j+hour]\n",
    "        xs = xs.values.ravel()\n",
    "        ys = float(df.iloc[9,j+hour+1])\n",
    "        if(ys < 0):\n",
    "            continue\n",
    "        xss.append(xs)\n",
    "        yss.append(float(ys))\n",
    "        \n",
    "xss = pd.DataFrame(xss).values.astype(np.float)\n",
    "xss = np.column_stack(([1] * len(xss) ,xss))\n",
    "yss = np.array(yss)"
   ]
  },
  {
   "cell_type": "markdown",
   "metadata": {},
   "source": [
    "## feature scaling"
   ]
  },
  {
   "cell_type": "code",
   "execution_count": 31,
   "metadata": {},
   "outputs": [
    {
     "name": "stdout",
     "output_type": "stream",
     "text": [
      "[1.00000000e+00 2.25439155e+01 2.25525054e+01 2.25612742e+01\n",
      " 2.25689692e+01 2.25745168e+01 2.25773801e+01 2.25770938e+01\n",
      " 2.25751432e+01 2.25705619e+01 1.70259485e+00 1.70254116e+00\n",
      " 1.70246958e+00 1.70234431e+00 1.70220115e+00 1.70205798e+00\n",
      " 1.70202219e+00 1.70202219e+00 1.70193271e+00 3.90044739e-01\n",
      " 3.90007158e-01 3.89992842e-01 3.90098425e-01 3.90173586e-01\n",
      " 3.90273801e-01 3.90209377e-01 3.89858626e-01 3.89255548e-01\n",
      " 1.40436650e-01 1.40572656e-01 1.40662133e-01 1.40918039e-01\n",
      " 1.41215104e-01 1.41422691e-01 1.41512169e-01 1.41444166e-01\n",
      " 1.41129205e-01 2.15300644e+00 2.15617394e+00 2.15952040e+00\n",
      " 2.16197208e+00 2.16130995e+00 2.16116679e+00 2.16000358e+00\n",
      " 2.15712241e+00 2.15059055e+00 1.01210093e+01 1.01311203e+01\n",
      " 1.01416428e+01 1.01568361e+01 1.01657122e+01 1.01774517e+01\n",
      " 1.01834646e+01 1.01837330e+01 1.01741410e+01 1.22596815e+01\n",
      " 1.22724409e+01 1.22868468e+01 1.23045276e+01 1.23132427e+01\n",
      " 1.23245347e+01 1.23301360e+01 1.23269506e+01 1.23111489e+01\n",
      " 3.18946135e+01 3.19341267e+01 3.19804223e+01 3.20192377e+01\n",
      " 3.20528096e+01 3.20723515e+01 3.20814603e+01 3.20874195e+01\n",
      " 3.20899785e+01 4.26936292e+01 4.27091983e+01 4.27288833e+01\n",
      " 4.27576951e+01 4.27859699e+01 4.28153185e+01 4.28475304e+01\n",
      " 4.28854689e+01 4.29194703e+01 2.14520401e+01 2.14468504e+01\n",
      " 2.14370079e+01 2.14470293e+01 2.14676092e+01 2.14858626e+01\n",
      " 2.14951682e+01 2.15035791e+01 2.15200429e+01 1.97530422e-01\n",
      " 1.93736578e-01 1.92304939e-01 1.92233357e-01 1.91803865e-01\n",
      " 1.95275591e-01 1.99821045e-01 2.02648533e-01 2.03400143e-01\n",
      " 7.31542591e+01 7.31070150e+01 7.30592341e+01 7.30150322e+01\n",
      " 7.29774517e+01 7.29527559e+01 7.29413028e+01 7.29384395e+01\n",
      " 7.29475662e+01 2.76744810e+00 2.76973873e+00 2.77355047e+00\n",
      " 2.77648533e+00 2.77777380e+00 2.77972441e+00 2.78044023e+00\n",
      " 2.78067287e+00 2.78174660e+00 1.83974588e+00 1.83979957e+00\n",
      " 1.83985326e+00 1.83999642e+00 1.84017538e+00 1.84024696e+00\n",
      " 1.84024696e+00 1.84008590e+00 1.83971009e+00 1.56228096e+02\n",
      " 1.56553078e+02 1.56846385e+02 1.57078311e+02 1.56982391e+02\n",
      " 1.56979707e+02 1.56999660e+02 1.57122423e+02 1.57161042e+02\n",
      " 1.58506961e+02 1.58704885e+02 1.58888851e+02 1.59016911e+02\n",
      " 1.59002595e+02 1.59074893e+02 1.59181371e+02 1.59222119e+02\n",
      " 1.59241321e+02 2.29745884e+00 2.29962419e+00 2.30155691e+00\n",
      " 2.30465283e+00 2.30574445e+00 2.30733715e+00 2.30846457e+00\n",
      " 2.30946671e+00 2.30909091e+00 1.71852183e+00 1.71884395e+00\n",
      " 1.71938082e+00 1.71973873e+00 1.72065140e+00 1.72086614e+00\n",
      " 1.72140301e+00 1.72247674e+00 1.72365784e+00]\n",
      "[[ 0.         -1.3548871  -1.35576317 ...  0.26092589  0.25971901\n",
      "  -1.14580047]\n",
      " [ 0.         -1.3548871  -1.35576317 ...  0.26092589 -1.14404986\n",
      "  -1.33307513]\n",
      " [ 0.         -1.3548871  -1.51428551 ... -1.14393075 -1.33121905\n",
      "  -0.8648885 ]\n",
      " ...\n",
      " [ 0.         -1.03772874 -0.88019615 ... -1.23758786 -0.58254231\n",
      "  -0.30306454]\n",
      " [ 0.         -0.87914957 -0.72167381 ... -0.58198809 -0.30178854\n",
      "  -0.39670187]\n",
      " [ 0.         -0.72057039 -0.56315147 ... -0.30101677 -0.39537313\n",
      "  -0.11578989]]\n"
     ]
    }
   ],
   "source": [
    "from sklearn.preprocessing import StandardScaler\n",
    "scaler = StandardScaler()\n",
    "scaler.fit(xss)\n",
    "print(scaler.mean_)\n",
    "print(scaler.transform(xss))"
   ]
  },
  {
   "cell_type": "code",
   "execution_count": 22,
   "metadata": {},
   "outputs": [
    {
     "name": "stdout",
     "output_type": "stream",
     "text": [
      "8.046229995931112\n"
     ]
    },
    {
     "ename": "KeyboardInterrupt",
     "evalue": "",
     "output_type": "error",
     "traceback": [
      "\u001b[0;31m---------------------------------------------------------------------------\u001b[0m",
      "\u001b[0;31mKeyboardInterrupt\u001b[0m                         Traceback (most recent call last)",
      "\u001b[0;32m<ipython-input-22-35dc2492e539>\u001b[0m in \u001b[0;36m<module>\u001b[0;34m\u001b[0m\n\u001b[1;32m      9\u001b[0m     \u001b[0mw_grad\u001b[0m \u001b[0;34m=\u001b[0m \u001b[0;32mNone\u001b[0m\u001b[0;34m\u001b[0m\u001b[0;34m\u001b[0m\u001b[0m\n\u001b[1;32m     10\u001b[0m     \u001b[0;32mfor\u001b[0m \u001b[0mm\u001b[0m \u001b[0;32min\u001b[0m \u001b[0mrange\u001b[0m\u001b[0;34m(\u001b[0m\u001b[0mmax_iter\u001b[0m\u001b[0;34m)\u001b[0m\u001b[0;34m:\u001b[0m\u001b[0;34m\u001b[0m\u001b[0;34m\u001b[0m\u001b[0m\n\u001b[0;32m---> 11\u001b[0;31m         \u001b[0mpredict\u001b[0m \u001b[0;34m=\u001b[0m \u001b[0mnp\u001b[0m\u001b[0;34m.\u001b[0m\u001b[0mdot\u001b[0m\u001b[0;34m(\u001b[0m\u001b[0mxss\u001b[0m\u001b[0;34m,\u001b[0m\u001b[0mw\u001b[0m\u001b[0;34m)\u001b[0m\u001b[0;34m\u001b[0m\u001b[0;34m\u001b[0m\u001b[0m\n\u001b[0m\u001b[1;32m     12\u001b[0m         \u001b[0mw_grad\u001b[0m \u001b[0;34m=\u001b[0m \u001b[0;34m-\u001b[0m\u001b[0;34m(\u001b[0m\u001b[0;36m2\u001b[0m \u001b[0;34m*\u001b[0m \u001b[0mnp\u001b[0m\u001b[0;34m.\u001b[0m\u001b[0mdot\u001b[0m\u001b[0;34m(\u001b[0m\u001b[0mxss\u001b[0m\u001b[0;34m.\u001b[0m\u001b[0mT\u001b[0m\u001b[0;34m,\u001b[0m\u001b[0;34m(\u001b[0m\u001b[0myss\u001b[0m \u001b[0;34m-\u001b[0m \u001b[0mpredict\u001b[0m\u001b[0;34m)\u001b[0m\u001b[0;34m)\u001b[0m\u001b[0;34m)\u001b[0m\u001b[0;34m\u001b[0m\u001b[0;34m\u001b[0m\u001b[0m\n\u001b[1;32m     13\u001b[0m         \u001b[0mw_lr\u001b[0m \u001b[0;34m=\u001b[0m \u001b[0mw_lr\u001b[0m \u001b[0;34m+\u001b[0m \u001b[0mw_grad\u001b[0m \u001b[0;34m**\u001b[0m \u001b[0;36m2\u001b[0m\u001b[0;34m\u001b[0m\u001b[0;34m\u001b[0m\u001b[0m\n",
      "\u001b[0;31mKeyboardInterrupt\u001b[0m: "
     ]
    }
   ],
   "source": [
    "from IPython.display import clear_output\n",
    "max_iter = 10 ** 4\n",
    "epochs = 10 ** 3\n",
    "lr = 1\n",
    "w = np.zeros(feature_num * hour + 1)\n",
    "w_lr = np.zeros(feature_num * hour+1)\n",
    "\n",
    "for t in range(epochs):\n",
    "    w_grad = None\n",
    "    for m in range(max_iter):\n",
    "        predict = np.dot(xss,w)\n",
    "        w_grad = -(2 * np.dot(xss.T,(yss - predict)))\n",
    "        w_lr = w_lr + w_grad ** 2\n",
    "        w = w - lr/np.sqrt(w_lr) * w_grad\n",
    "\n",
    "    clear_output()\n",
    "    print(np.sqrt(np.mean([ x*x for x in (yss-predict)])))"
   ]
  },
  {
   "cell_type": "code",
   "execution_count": 24,
   "metadata": {},
   "outputs": [],
   "source": [
    "test = pd.read_csv('data/test.csv', encoding='Big5', header=None)\n",
    "test = test.replace('NR', '0')"
   ]
  },
  {
   "cell_type": "code",
   "execution_count": 25,
   "metadata": {},
   "outputs": [],
   "source": [
    "import pickle\n",
    "with open('model/0225-scale.pkl', 'wb') as f:\n",
    "    pickle.dump(w, f)\n",
    "# with open('model/0223.pkl', 'rb') as f:\n",
    "#       mynewlist = pickle.load(f)"
   ]
  },
  {
   "cell_type": "code",
   "execution_count": 34,
   "metadata": {},
   "outputs": [
    {
     "name": "stdout",
     "output_type": "stream",
     "text": [
      "240\n"
     ]
    }
   ],
   "source": [
    "ans = pd.read_csv('data/sampleSubmission.csv', encoding='Big5')\n",
    "test_feature = 18\n",
    "total_test = []\n",
    "row, col = test.shape\n",
    "test_number = int(row/test_feature)\n",
    "print(test_number)\n",
    "for i in range(test_number):\n",
    "    df = test.iloc[i*test_feature: (i+1)*test_feature, 2:]\n",
    "    xs = df.values.ravel().astype(np.float)\n",
    "    xs = np.concatenate(([1], xs))\n",
    "    xs = (scaler.transform([xs]))\n",
    "    val = np.dot(xs,w)\n",
    "    ans.iloc[i,1] = val\n",
    "ans.to_csv('data/0225-scale.csv',index=False)"
   ]
  },
  {
   "cell_type": "code",
   "execution_count": 168,
   "metadata": {},
   "outputs": [
    {
     "name": "stdout",
     "output_type": "stream",
     "text": [
      "140\n"
     ]
    }
   ],
   "source": [
    "with open('model/0223-4.pkl', 'rb') as f:\n",
    "      w = pickle.load(f)\n",
    "        \n",
    "predict = np.dot(xss,w)\n",
    "error = predict - yss\n",
    "# index = []\n",
    "for i in range(len(error)):\n",
    "    if abs(error[i]) <= 20:\n",
    "        index.append(i)\n",
    "index = set(index)\n",
    "# print(error)\n",
    "print(len(yss)-len(index))"
   ]
  },
  {
   "cell_type": "code",
   "execution_count": 169,
   "metadata": {},
   "outputs": [],
   "source": [
    "test = pd.DataFrame(xss)\n",
    "xss_o = test[test.index.isin(index)]\n",
    "test = pd.DataFrame(yss)\n",
    "yss_o = test[test.index.isin(index)]"
   ]
  },
  {
   "cell_type": "code",
   "execution_count": 170,
   "metadata": {},
   "outputs": [
    {
     "name": "stdout",
     "output_type": "stream",
     "text": [
      "8.13433748307653\n"
     ]
    },
    {
     "ename": "KeyboardInterrupt",
     "evalue": "",
     "output_type": "error",
     "traceback": [
      "\u001b[0;31m---------------------------------------------------------------------------\u001b[0m",
      "\u001b[0;31mKeyboardInterrupt\u001b[0m                         Traceback (most recent call last)",
      "\u001b[0;32m<ipython-input-170-5515174ab50a>\u001b[0m in \u001b[0;36m<module>\u001b[0;34m\u001b[0m\n\u001b[1;32m      9\u001b[0m     \u001b[0;32mfor\u001b[0m \u001b[0mm\u001b[0m \u001b[0;32min\u001b[0m \u001b[0mrange\u001b[0m\u001b[0;34m(\u001b[0m\u001b[0mmax_iter\u001b[0m\u001b[0;34m)\u001b[0m\u001b[0;34m:\u001b[0m\u001b[0;34m\u001b[0m\u001b[0;34m\u001b[0m\u001b[0m\n\u001b[1;32m     10\u001b[0m         \u001b[0mpredict\u001b[0m \u001b[0;34m=\u001b[0m \u001b[0mnp\u001b[0m\u001b[0;34m.\u001b[0m\u001b[0mdot\u001b[0m\u001b[0;34m(\u001b[0m\u001b[0mxss\u001b[0m\u001b[0;34m,\u001b[0m\u001b[0mw\u001b[0m\u001b[0;34m)\u001b[0m\u001b[0;34m\u001b[0m\u001b[0;34m\u001b[0m\u001b[0m\n\u001b[0;32m---> 11\u001b[0;31m         \u001b[0mw_grad\u001b[0m \u001b[0;34m=\u001b[0m \u001b[0;34m-\u001b[0m\u001b[0;34m(\u001b[0m\u001b[0;36m2\u001b[0m \u001b[0;34m*\u001b[0m \u001b[0mnp\u001b[0m\u001b[0;34m.\u001b[0m\u001b[0mdot\u001b[0m\u001b[0;34m(\u001b[0m\u001b[0mxss\u001b[0m\u001b[0;34m.\u001b[0m\u001b[0mT\u001b[0m\u001b[0;34m,\u001b[0m\u001b[0;34m(\u001b[0m\u001b[0myss\u001b[0m \u001b[0;34m-\u001b[0m \u001b[0mpredict\u001b[0m\u001b[0;34m)\u001b[0m\u001b[0;34m)\u001b[0m\u001b[0;34m)\u001b[0m\u001b[0;34m\u001b[0m\u001b[0;34m\u001b[0m\u001b[0m\n\u001b[0m\u001b[1;32m     12\u001b[0m         \u001b[0mw_lr\u001b[0m \u001b[0;34m=\u001b[0m \u001b[0mw_lr\u001b[0m \u001b[0;34m+\u001b[0m \u001b[0mw_grad\u001b[0m \u001b[0;34m**\u001b[0m \u001b[0;36m2\u001b[0m\u001b[0;34m\u001b[0m\u001b[0;34m\u001b[0m\u001b[0m\n\u001b[1;32m     13\u001b[0m         \u001b[0mw\u001b[0m \u001b[0;34m=\u001b[0m \u001b[0mw\u001b[0m \u001b[0;34m-\u001b[0m \u001b[0mlr\u001b[0m\u001b[0;34m/\u001b[0m\u001b[0mnp\u001b[0m\u001b[0;34m.\u001b[0m\u001b[0msqrt\u001b[0m\u001b[0;34m(\u001b[0m\u001b[0mw_lr\u001b[0m\u001b[0;34m)\u001b[0m \u001b[0;34m*\u001b[0m \u001b[0mw_grad\u001b[0m\u001b[0;34m\u001b[0m\u001b[0;34m\u001b[0m\u001b[0m\n",
      "\u001b[0;31mKeyboardInterrupt\u001b[0m: "
     ]
    }
   ],
   "source": [
    "from IPython.display import clear_output\n",
    "max_iter = 10 ** 4\n",
    "epochs = 10 ** 3\n",
    "lr = 1\n",
    "w = np.zeros(feature_num * hour + 1)\n",
    "w_lr = np.zeros(feature_num * hour+1)\n",
    "for t in range(epochs):\n",
    "    w_grad = None\n",
    "    for m in range(max_iter):\n",
    "        predict = np.dot(xss,w)\n",
    "        w_grad = -(2 * np.dot(xss.T,(yss - predict)))\n",
    "        w_lr = w_lr + w_grad ** 2\n",
    "        w = w - lr/np.sqrt(w_lr) * w_grad\n",
    "\n",
    "    clear_output()\n",
    "    print(np.sqrt(np.mean([ x*x for x in (yss-predict)])))"
   ]
  },
  {
   "cell_type": "code",
   "execution_count": 30,
   "metadata": {},
   "outputs": [
    {
     "name": "stdout",
     "output_type": "stream",
     "text": [
      "[[ 0.         -1.3548871  -1.35576317 ...  0.26092589  0.25971901\n",
      "  -1.14580047]\n",
      " [ 0.         -1.3548871  -1.35576317 ...  0.26092589 -1.14404986\n",
      "  -1.33307513]\n",
      " [ 0.         -1.3548871  -1.51428551 ... -1.14393075 -1.33121905\n",
      "  -0.8648885 ]\n",
      " ...\n",
      " [ 0.         -1.03772874 -0.88019615 ... -1.23758786 -0.58254231\n",
      "  -0.30306454]\n",
      " [ 0.         -0.87914957 -0.72167381 ... -0.58198809 -0.30178854\n",
      "  -0.39670187]\n",
      " [ 0.         -0.72057039 -0.56315147 ... -0.30101677 -0.39537313\n",
      "  -0.11578989]]\n"
     ]
    }
   ],
   "source": [
    "myscale(xss)"
   ]
  }
 ],
 "metadata": {
  "kernelspec": {
   "display_name": "Python 3",
   "language": "python",
   "name": "python3"
  },
  "language_info": {
   "codemirror_mode": {
    "name": "ipython",
    "version": 3
   },
   "file_extension": ".py",
   "mimetype": "text/x-python",
   "name": "python",
   "nbconvert_exporter": "python",
   "pygments_lexer": "ipython3",
   "version": "3.7.2"
  }
 },
 "nbformat": 4,
 "nbformat_minor": 2
}
