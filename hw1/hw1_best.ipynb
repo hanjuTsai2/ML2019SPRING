{
 "cells": [
  {
   "cell_type": "code",
   "execution_count": 214,
   "metadata": {},
   "outputs": [],
   "source": [
    "import pickle\n",
    "import pandas as pd\n",
    "import numpy as np\n",
    "\n",
    "class standardScaler():\n",
    "    def fit(self, xss):\n",
    "        self.mean = np.mean(xss, axis=0)\n",
    "        self.sd = np.std(xss, axis=0)\n",
    "\n",
    "    def transform(self, xss):\n",
    "        xss = (xss-self.mean)/(self.sd)\n",
    "        return(xss)\n",
    "\n",
    "def polyTransform(xss):\n",
    "    xss = np.column_stack([xss, xss**2])\n",
    "    return(xss)\n",
    "\n",
    "model2 = np.load('model.npy')   \n",
    "ans = pd.read_csv('data/sampleSubmission.csv', encoding='Big5')\n",
    "test_feature = 18\n",
    "total_test = []\n",
    "row, col = test.shape\n",
    "test_number = int(row/test_feature)\n",
    "    \n",
    "w2 = model2.item().get('w')\n",
    "scaler2 = model2.item().get('scaler')\n",
    "selected_var2 = model2.item().get('selected_var')\n",
    "    \n",
    "for i in range(test_number):\n",
    "    df = test.iloc[i*test_feature:(i+1)*test_feature, 2:]\n",
    "    tmp = df.values.ravel().astype(np.float)    \n",
    "    xs = (scaler2.transform([tmp])[0])\n",
    "    xs = np.array([[xs[i] for i in range(len(xs)) if i in selected_var2]])\n",
    "    xs = polyTransform(xs)[0]\n",
    "    xs = np.concatenate(([1], xs))\n",
    "    val = np.dot(xs,w2)\n",
    "    val = round(val,0)\n",
    "    ans.iloc[i,1] = val \n",
    "ans.to_csv('ans/simple.csv',index=False)"
   ]
  }
 ],
 "metadata": {
  "kernelspec": {
   "display_name": "Python 3",
   "language": "python",
   "name": "python3"
  },
  "language_info": {
   "codemirror_mode": {
    "name": "ipython",
    "version": 3
   },
   "file_extension": ".py",
   "mimetype": "text/x-python",
   "name": "python",
   "nbconvert_exporter": "python",
   "pygments_lexer": "ipython3",
   "version": "3.7.1"
  }
 },
 "nbformat": 4,
 "nbformat_minor": 2
}
